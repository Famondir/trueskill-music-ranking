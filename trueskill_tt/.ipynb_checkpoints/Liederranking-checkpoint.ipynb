{
 "cells": [
  {
   "cell_type": "code",
   "execution_count": 2,
   "id": "bbf354c6-923e-4325-b3fb-d2df6a8c536e",
   "metadata": {},
   "outputs": [],
   "source": [
    "import trueskillthroughtime as ttt"
   ]
  },
  {
   "cell_type": "code",
   "execution_count": 5,
   "id": "b8ec6f8f-2de9-45b0-890c-0e830c5a065b",
   "metadata": {},
   "outputs": [],
   "source": [
    "songs = {\n",
    "    \"Abends treten Elche\": ttt.Player(),\n",
    "    \"Aber am Abend\": ttt.Player()\n",
    "}"
   ]
  },
  {
   "cell_type": "code",
   "execution_count": 6,
   "id": "676620f0-c453-4d90-9242-ecc08ba021f3",
   "metadata": {},
   "outputs": [
    {
     "data": {
      "text/plain": [
       "Player(Gaussian(mu=0.000, sigma=6.000), beta=1.000, gamma=0.030)"
      ]
     },
     "execution_count": 6,
     "metadata": {},
     "output_type": "execute_result"
    }
   ],
   "source": [
    "songs[\"Aber am Abend\"]"
   ]
  },
  {
   "cell_type": "code",
   "execution_count": 8,
   "id": "89558e8e-dbb6-404e-9f2e-de29246cf8c7",
   "metadata": {},
   "outputs": [],
   "source": [
    "g = ttt.Game([[songs[\"Abends treten Elche\"]], [songs[\"Aber am Abend\"]]])"
   ]
  },
  {
   "cell_type": "code",
   "execution_count": 9,
   "id": "9f06031e-7c93-4f12-8d26-119406a79e5f",
   "metadata": {},
   "outputs": [
    {
     "data": {
      "text/plain": [
       "[[N(mu=3.339, sigma=4.985)], [N(mu=-3.339, sigma=4.985)]]"
      ]
     },
     "execution_count": 9,
     "metadata": {},
     "output_type": "execute_result"
    }
   ],
   "source": [
    "g.posteriors()"
   ]
  },
  {
   "cell_type": "code",
   "execution_count": 10,
   "id": "ab60d6d0-1f6a-499b-8562-c6071ae012e4",
   "metadata": {},
   "outputs": [],
   "source": [
    "import pandas as pd"
   ]
  },
  {
   "cell_type": "code",
   "execution_count": 26,
   "id": "ce563084-536c-4936-817c-ce7d2b6762ac",
   "metadata": {},
   "outputs": [],
   "source": [
    "lieder = pd.read_csv(\"liederliste.csv\")"
   ]
  },
  {
   "cell_type": "code",
   "execution_count": 27,
   "id": "57b819d4-c7cb-4457-9091-fc0be56231e5",
   "metadata": {},
   "outputs": [],
   "source": [
    "lieder_objects = []\n",
    "for i in range(len(lieder)):\n",
    "    lieder_objects.append(ttt.Player())"
   ]
  },
  {
   "cell_type": "code",
   "execution_count": 28,
   "id": "58ce2a5b-d076-4df2-953e-321d72db9772",
   "metadata": {},
   "outputs": [
    {
     "data": {
      "text/plain": [
       "Player(Gaussian(mu=0.000, sigma=6.000), beta=1.000, gamma=0.030)"
      ]
     },
     "execution_count": 28,
     "metadata": {},
     "output_type": "execute_result"
    }
   ],
   "source": [
    "lieder_objects[0]"
   ]
  },
  {
   "cell_type": "code",
   "execution_count": 29,
   "id": "12d0a362-abff-4050-a2dc-237474ec235d",
   "metadata": {},
   "outputs": [],
   "source": [
    "lieder.insert(1, \"Wertung\", lieder_objects, True)"
   ]
  },
  {
   "cell_type": "code",
   "execution_count": 45,
   "id": "c56ad446-746f-4d7e-9e59-190918fc4f14",
   "metadata": {},
   "outputs": [
    {
     "data": {
      "text/html": [
       "<div>\n",
       "<style scoped>\n",
       "    .dataframe tbody tr th:only-of-type {\n",
       "        vertical-align: middle;\n",
       "    }\n",
       "\n",
       "    .dataframe tbody tr th {\n",
       "        vertical-align: top;\n",
       "    }\n",
       "\n",
       "    .dataframe thead th {\n",
       "        text-align: right;\n",
       "    }\n",
       "</style>\n",
       "<table border=\"1\" class=\"dataframe\">\n",
       "  <thead>\n",
       "    <tr style=\"text-align: right;\">\n",
       "      <th></th>\n",
       "      <th>Wertung</th>\n",
       "      <th>Quelle</th>\n",
       "      <th>Seite</th>\n",
       "    </tr>\n",
       "    <tr>\n",
       "      <th>Liedanfang</th>\n",
       "      <th></th>\n",
       "      <th></th>\n",
       "      <th></th>\n",
       "    </tr>\n",
       "  </thead>\n",
       "  <tbody>\n",
       "    <tr>\n",
       "      <th>Abends treten Elche</th>\n",
       "      <td>Player(Gaussian(mu=0.000, sigma=6.000), beta=1...</td>\n",
       "      <td>Liederbock</td>\n",
       "      <td>NaN</td>\n",
       "    </tr>\n",
       "    <tr>\n",
       "      <th>Abend ward</th>\n",
       "      <td>Player(Gaussian(mu=0.000, sigma=6.000), beta=1...</td>\n",
       "      <td>Liederbock</td>\n",
       "      <td>NaN</td>\n",
       "    </tr>\n",
       "    <tr>\n",
       "      <th>Aber am Abend laden wir uns ein</th>\n",
       "      <td>Player(Gaussian(mu=0.000, sigma=6.000), beta=1...</td>\n",
       "      <td>Liederbock</td>\n",
       "      <td>NaN</td>\n",
       "    </tr>\n",
       "    <tr>\n",
       "      <th>Ach wie eilte so geschwinde</th>\n",
       "      <td>Player(Gaussian(mu=0.000, sigma=6.000), beta=1...</td>\n",
       "      <td>Liederbock</td>\n",
       "      <td>NaN</td>\n",
       "    </tr>\n",
       "    <tr>\n",
       "      <th>Ade zur guten Nacht</th>\n",
       "      <td>Player(Gaussian(mu=0.000, sigma=6.000), beta=1...</td>\n",
       "      <td>Liederbock</td>\n",
       "      <td>NaN</td>\n",
       "    </tr>\n",
       "    <tr>\n",
       "      <th>...</th>\n",
       "      <td>...</td>\n",
       "      <td>...</td>\n",
       "      <td>...</td>\n",
       "    </tr>\n",
       "    <tr>\n",
       "      <th>Ziehen die Straßen dahin</th>\n",
       "      <td>Player(Gaussian(mu=0.000, sigma=6.000), beta=1...</td>\n",
       "      <td>Liederbock</td>\n",
       "      <td>NaN</td>\n",
       "    </tr>\n",
       "    <tr>\n",
       "      <th>Zogen der Ungarn stämmige Husaren</th>\n",
       "      <td>Player(Gaussian(mu=0.000, sigma=6.000), beta=1...</td>\n",
       "      <td>Liederbock</td>\n",
       "      <td>NaN</td>\n",
       "    </tr>\n",
       "    <tr>\n",
       "      <th>Zogen einst fünf wilde Schwäne</th>\n",
       "      <td>Player(Gaussian(mu=0.000, sigma=6.000), beta=1...</td>\n",
       "      <td>Liederbock</td>\n",
       "      <td>NaN</td>\n",
       "    </tr>\n",
       "    <tr>\n",
       "      <th>Zogen viele Straßen</th>\n",
       "      <td>Player(Gaussian(mu=0.000, sigma=6.000), beta=1...</td>\n",
       "      <td>Liederbock</td>\n",
       "      <td>NaN</td>\n",
       "    </tr>\n",
       "    <tr>\n",
       "      <th>Zu Straßburg auf der Schanz</th>\n",
       "      <td>Player(Gaussian(mu=0.000, sigma=6.000), beta=1...</td>\n",
       "      <td>Liederbock</td>\n",
       "      <td>NaN</td>\n",
       "    </tr>\n",
       "  </tbody>\n",
       "</table>\n",
       "<p>213 rows × 3 columns</p>\n",
       "</div>"
      ],
      "text/plain": [
       "                                                                             Wertung  \\\n",
       "Liedanfang                                                                             \n",
       "Abends treten Elche                Player(Gaussian(mu=0.000, sigma=6.000), beta=1...   \n",
       "Abend ward                         Player(Gaussian(mu=0.000, sigma=6.000), beta=1...   \n",
       "Aber am Abend laden wir uns ein    Player(Gaussian(mu=0.000, sigma=6.000), beta=1...   \n",
       "Ach wie eilte so geschwinde        Player(Gaussian(mu=0.000, sigma=6.000), beta=1...   \n",
       "Ade zur guten Nacht                Player(Gaussian(mu=0.000, sigma=6.000), beta=1...   \n",
       "...                                                                              ...   \n",
       "Ziehen die Straßen dahin           Player(Gaussian(mu=0.000, sigma=6.000), beta=1...   \n",
       "Zogen der Ungarn stämmige Husaren  Player(Gaussian(mu=0.000, sigma=6.000), beta=1...   \n",
       "Zogen einst fünf wilde Schwäne     Player(Gaussian(mu=0.000, sigma=6.000), beta=1...   \n",
       "Zogen viele Straßen                Player(Gaussian(mu=0.000, sigma=6.000), beta=1...   \n",
       "Zu Straßburg auf der Schanz        Player(Gaussian(mu=0.000, sigma=6.000), beta=1...   \n",
       "\n",
       "                                       Quelle  Seite  \n",
       "Liedanfang                                            \n",
       "Abends treten Elche                Liederbock    NaN  \n",
       "Abend ward                         Liederbock    NaN  \n",
       "Aber am Abend laden wir uns ein    Liederbock    NaN  \n",
       "Ach wie eilte so geschwinde        Liederbock    NaN  \n",
       "Ade zur guten Nacht                Liederbock    NaN  \n",
       "...                                       ...    ...  \n",
       "Ziehen die Straßen dahin           Liederbock    NaN  \n",
       "Zogen der Ungarn stämmige Husaren  Liederbock    NaN  \n",
       "Zogen einst fünf wilde Schwäne     Liederbock    NaN  \n",
       "Zogen viele Straßen                Liederbock    NaN  \n",
       "Zu Straßburg auf der Schanz        Liederbock    NaN  \n",
       "\n",
       "[213 rows x 3 columns]"
      ]
     },
     "execution_count": 45,
     "metadata": {},
     "output_type": "execute_result"
    }
   ],
   "source": [
    "lieder"
   ]
  },
  {
   "cell_type": "code",
   "execution_count": 21,
   "id": "f69216c9-968b-4ad8-8e4a-70cfe8340124",
   "metadata": {},
   "outputs": [
    {
     "data": {
      "text/plain": [
       "Index(['Liedanfang', 'Wertung', 'Quelle', 'Seite'], dtype='object')"
      ]
     },
     "execution_count": 21,
     "metadata": {},
     "output_type": "execute_result"
    }
   ],
   "source": [
    "lieder.keys()"
   ]
  },
  {
   "cell_type": "code",
   "execution_count": 40,
   "id": "4d1830a4-b745-4acd-9bb0-8e730fc788e4",
   "metadata": {},
   "outputs": [
    {
     "data": {
      "text/plain": [
       "Index(['Abends treten Elche', 'Abend ward', 'Aber am Abend laden wir uns ein',\n",
       "       'Ach wie eilte so geschwinde', 'Ade zur guten Nacht',\n",
       "       'Alle, die mit uns auf Kaperfahrt', 'Allzeit bereit',\n",
       "       'Als wir jüngst verschütt jegangen waren', 'Am Ural',\n",
       "       'Am Wald in der Schenke',\n",
       "       ...\n",
       "       'Wo's nur Felsen gibt', 'Wo soll ich mich hinkehren', 'Xekinai',\n",
       "       'Ye Jacobites', 'Zelte sah ich, Pferde, Fahnen',\n",
       "       'Ziehen die Straßen dahin', 'Zogen der Ungarn stämmige Husaren',\n",
       "       'Zogen einst fünf wilde Schwäne', 'Zogen viele Straßen',\n",
       "       'Zu Straßburg auf der Schanz'],\n",
       "      dtype='object', name='Liedanfang', length=213)"
      ]
     },
     "execution_count": 40,
     "metadata": {},
     "output_type": "execute_result"
    }
   ],
   "source": [
    "lieder.index"
   ]
  },
  {
   "cell_type": "code",
   "execution_count": 39,
   "id": "a71c1a43-98c0-4ba0-8f1f-ac270e205b42",
   "metadata": {},
   "outputs": [],
   "source": [
    "lieder = lieder.set_index(\"Liedanfang\")"
   ]
  },
  {
   "cell_type": "code",
   "execution_count": 46,
   "id": "b56fbb70-3370-4123-810a-cf773cdfa0c5",
   "metadata": {},
   "outputs": [
    {
     "data": {
      "text/plain": [
       "Player(Gaussian(mu=0.000, sigma=6.000), beta=1.000, gamma=0.030)"
      ]
     },
     "execution_count": 46,
     "metadata": {},
     "output_type": "execute_result"
    }
   ],
   "source": [
    "lieder.loc[\"Abends treten Elche\", \"Wertung\"]"
   ]
  },
  {
   "cell_type": "code",
   "execution_count": 44,
   "id": "c429b0e0-cb2b-4abb-9b7d-f2883b379c6a",
   "metadata": {},
   "outputs": [],
   "source": [
    "g = ttt.Game([[lieder.loc[\"Abends treten Elche\", \"Wertung\"]], [lieder.loc[\"Aber am Abend laden wir uns ein\", \"Wertung\"]]])"
   ]
  },
  {
   "cell_type": "code",
   "execution_count": 47,
   "id": "be457277-7e1d-48ca-8128-7afd6e938385",
   "metadata": {},
   "outputs": [
    {
     "data": {
      "text/plain": [
       "[[N(mu=3.339, sigma=4.985)], [N(mu=-3.339, sigma=4.985)]]"
      ]
     },
     "execution_count": 47,
     "metadata": {},
     "output_type": "execute_result"
    }
   ],
   "source": [
    "g.posteriors()"
   ]
  },
  {
   "cell_type": "code",
   "execution_count": null,
   "id": "1884c61c-b13e-4b3b-b505-8ab885cf0856",
   "metadata": {},
   "outputs": [],
   "source": []
  }
 ],
 "metadata": {
  "kernelspec": {
   "display_name": "Python 3 (ipykernel)",
   "language": "python",
   "name": "python3"
  },
  "language_info": {
   "codemirror_mode": {
    "name": "ipython",
    "version": 3
   },
   "file_extension": ".py",
   "mimetype": "text/x-python",
   "name": "python",
   "nbconvert_exporter": "python",
   "pygments_lexer": "ipython3",
   "version": "3.12.1"
  }
 },
 "nbformat": 4,
 "nbformat_minor": 5
}
