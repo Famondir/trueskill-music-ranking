{
 "cells": [
  {
   "cell_type": "code",
   "execution_count": 31,
   "id": "bbf354c6-923e-4325-b3fb-d2df6a8c536e",
   "metadata": {},
   "outputs": [],
   "source": [
    "import trueskillthroughtime as ttt"
   ]
  },
  {
   "cell_type": "code",
   "execution_count": 2,
   "id": "b8ec6f8f-2de9-45b0-890c-0e830c5a065b",
   "metadata": {},
   "outputs": [],
   "source": [
    "songs = {\n",
    "    \"Abends treten Elche\": ttt.Player(),\n",
    "    \"Aber am Abend\": ttt.Player()\n",
    "}"
   ]
  },
  {
   "cell_type": "code",
   "execution_count": 3,
   "id": "676620f0-c453-4d90-9242-ecc08ba021f3",
   "metadata": {},
   "outputs": [
    {
     "data": {
      "text/plain": [
       "Player(Gaussian(mu=0.000, sigma=6.000), beta=1.000, gamma=0.030)"
      ]
     },
     "execution_count": 3,
     "metadata": {},
     "output_type": "execute_result"
    }
   ],
   "source": [
    "songs[\"Aber am Abend\"]"
   ]
  },
  {
   "cell_type": "code",
   "execution_count": 4,
   "id": "89558e8e-dbb6-404e-9f2e-de29246cf8c7",
   "metadata": {},
   "outputs": [],
   "source": [
    "g = ttt.Game([[songs[\"Abends treten Elche\"]], [songs[\"Aber am Abend\"]]])"
   ]
  },
  {
   "cell_type": "code",
   "execution_count": 5,
   "id": "9f06031e-7c93-4f12-8d26-119406a79e5f",
   "metadata": {},
   "outputs": [
    {
     "data": {
      "text/plain": [
       "[[N(mu=3.339, sigma=4.985)], [N(mu=-3.339, sigma=4.985)]]"
      ]
     },
     "execution_count": 5,
     "metadata": {},
     "output_type": "execute_result"
    }
   ],
   "source": [
    "g.posteriors()"
   ]
  },
  {
   "cell_type": "code",
   "execution_count": 4,
   "id": "ab60d6d0-1f6a-499b-8562-c6071ae012e4",
   "metadata": {},
   "outputs": [],
   "source": [
    "import pandas as pd"
   ]
  },
  {
   "cell_type": "code",
   "execution_count": 42,
   "id": "ce563084-536c-4936-817c-ce7d2b6762ac",
   "metadata": {},
   "outputs": [],
   "source": [
    "lieder = pd.read_csv(\"liederliste.csv\")"
   ]
  },
  {
   "cell_type": "code",
   "execution_count": 43,
   "id": "12d0a362-abff-4050-a2dc-237474ec235d",
   "metadata": {},
   "outputs": [],
   "source": [
    "lieder.insert(1, \"Wertung\", ttt.MU, True)\n",
    "lieder.insert(2, \"Unsicherheit\", ttt.SIGMA, True)"
   ]
  },
  {
   "cell_type": "code",
   "execution_count": 44,
   "id": "c56ad446-746f-4d7e-9e59-190918fc4f14",
   "metadata": {},
   "outputs": [
    {
     "data": {
      "text/html": [
       "<div>\n",
       "<style scoped>\n",
       "    .dataframe tbody tr th:only-of-type {\n",
       "        vertical-align: middle;\n",
       "    }\n",
       "\n",
       "    .dataframe tbody tr th {\n",
       "        vertical-align: top;\n",
       "    }\n",
       "\n",
       "    .dataframe thead th {\n",
       "        text-align: right;\n",
       "    }\n",
       "</style>\n",
       "<table border=\"1\" class=\"dataframe\">\n",
       "  <thead>\n",
       "    <tr style=\"text-align: right;\">\n",
       "      <th></th>\n",
       "      <th>Liedanfang</th>\n",
       "      <th>Wertung</th>\n",
       "      <th>Unsicherheit</th>\n",
       "      <th>Quelle</th>\n",
       "      <th>Seite</th>\n",
       "    </tr>\n",
       "  </thead>\n",
       "  <tbody>\n",
       "    <tr>\n",
       "      <th>0</th>\n",
       "      <td>Abends treten Elche</td>\n",
       "      <td>0.0</td>\n",
       "      <td>6.0</td>\n",
       "      <td>Liederbock</td>\n",
       "      <td>NaN</td>\n",
       "    </tr>\n",
       "    <tr>\n",
       "      <th>1</th>\n",
       "      <td>Abend ward</td>\n",
       "      <td>0.0</td>\n",
       "      <td>6.0</td>\n",
       "      <td>Liederbock</td>\n",
       "      <td>NaN</td>\n",
       "    </tr>\n",
       "    <tr>\n",
       "      <th>2</th>\n",
       "      <td>Aber am Abend laden wir uns ein</td>\n",
       "      <td>0.0</td>\n",
       "      <td>6.0</td>\n",
       "      <td>Liederbock</td>\n",
       "      <td>NaN</td>\n",
       "    </tr>\n",
       "    <tr>\n",
       "      <th>3</th>\n",
       "      <td>Ach wie eilte so geschwinde</td>\n",
       "      <td>0.0</td>\n",
       "      <td>6.0</td>\n",
       "      <td>Liederbock</td>\n",
       "      <td>NaN</td>\n",
       "    </tr>\n",
       "    <tr>\n",
       "      <th>4</th>\n",
       "      <td>Ade zur guten Nacht</td>\n",
       "      <td>0.0</td>\n",
       "      <td>6.0</td>\n",
       "      <td>Liederbock</td>\n",
       "      <td>NaN</td>\n",
       "    </tr>\n",
       "    <tr>\n",
       "      <th>...</th>\n",
       "      <td>...</td>\n",
       "      <td>...</td>\n",
       "      <td>...</td>\n",
       "      <td>...</td>\n",
       "      <td>...</td>\n",
       "    </tr>\n",
       "    <tr>\n",
       "      <th>208</th>\n",
       "      <td>Ziehen die Straßen dahin</td>\n",
       "      <td>0.0</td>\n",
       "      <td>6.0</td>\n",
       "      <td>Liederbock</td>\n",
       "      <td>NaN</td>\n",
       "    </tr>\n",
       "    <tr>\n",
       "      <th>209</th>\n",
       "      <td>Zogen der Ungarn stämmige Husaren</td>\n",
       "      <td>0.0</td>\n",
       "      <td>6.0</td>\n",
       "      <td>Liederbock</td>\n",
       "      <td>NaN</td>\n",
       "    </tr>\n",
       "    <tr>\n",
       "      <th>210</th>\n",
       "      <td>Zogen einst fünf wilde Schwäne</td>\n",
       "      <td>0.0</td>\n",
       "      <td>6.0</td>\n",
       "      <td>Liederbock</td>\n",
       "      <td>NaN</td>\n",
       "    </tr>\n",
       "    <tr>\n",
       "      <th>211</th>\n",
       "      <td>Zogen viele Straßen</td>\n",
       "      <td>0.0</td>\n",
       "      <td>6.0</td>\n",
       "      <td>Liederbock</td>\n",
       "      <td>NaN</td>\n",
       "    </tr>\n",
       "    <tr>\n",
       "      <th>212</th>\n",
       "      <td>Zu Straßburg auf der Schanz</td>\n",
       "      <td>0.0</td>\n",
       "      <td>6.0</td>\n",
       "      <td>Liederbock</td>\n",
       "      <td>NaN</td>\n",
       "    </tr>\n",
       "  </tbody>\n",
       "</table>\n",
       "<p>213 rows × 5 columns</p>\n",
       "</div>"
      ],
      "text/plain": [
       "                            Liedanfang  Wertung  Unsicherheit      Quelle  \\\n",
       "0                  Abends treten Elche      0.0           6.0  Liederbock   \n",
       "1                           Abend ward      0.0           6.0  Liederbock   \n",
       "2      Aber am Abend laden wir uns ein      0.0           6.0  Liederbock   \n",
       "3          Ach wie eilte so geschwinde      0.0           6.0  Liederbock   \n",
       "4                  Ade zur guten Nacht      0.0           6.0  Liederbock   \n",
       "..                                 ...      ...           ...         ...   \n",
       "208           Ziehen die Straßen dahin      0.0           6.0  Liederbock   \n",
       "209  Zogen der Ungarn stämmige Husaren      0.0           6.0  Liederbock   \n",
       "210     Zogen einst fünf wilde Schwäne      0.0           6.0  Liederbock   \n",
       "211                Zogen viele Straßen      0.0           6.0  Liederbock   \n",
       "212        Zu Straßburg auf der Schanz      0.0           6.0  Liederbock   \n",
       "\n",
       "     Seite  \n",
       "0      NaN  \n",
       "1      NaN  \n",
       "2      NaN  \n",
       "3      NaN  \n",
       "4      NaN  \n",
       "..     ...  \n",
       "208    NaN  \n",
       "209    NaN  \n",
       "210    NaN  \n",
       "211    NaN  \n",
       "212    NaN  \n",
       "\n",
       "[213 rows x 5 columns]"
      ]
     },
     "execution_count": 44,
     "metadata": {},
     "output_type": "execute_result"
    }
   ],
   "source": [
    "lieder"
   ]
  },
  {
   "cell_type": "code",
   "execution_count": 45,
   "id": "f69216c9-968b-4ad8-8e4a-70cfe8340124",
   "metadata": {},
   "outputs": [
    {
     "data": {
      "text/plain": [
       "Index(['Liedanfang', 'Wertung', 'Unsicherheit', 'Quelle', 'Seite'], dtype='object')"
      ]
     },
     "execution_count": 45,
     "metadata": {},
     "output_type": "execute_result"
    }
   ],
   "source": [
    "lieder.keys()"
   ]
  },
  {
   "cell_type": "code",
   "execution_count": 46,
   "id": "a71c1a43-98c0-4ba0-8f1f-ac270e205b42",
   "metadata": {},
   "outputs": [],
   "source": [
    "lieder = lieder.set_index(\"Liedanfang\")"
   ]
  },
  {
   "cell_type": "code",
   "execution_count": 164,
   "id": "4d1830a4-b745-4acd-9bb0-8e730fc788e4",
   "metadata": {},
   "outputs": [
    {
     "data": {
      "text/plain": [
       "Index(['Abends treten Elche', 'Abend ward', 'Aber am Abend laden wir uns ein',\n",
       "       'Ach wie eilte so geschwinde', 'Ade zur guten Nacht',\n",
       "       'Alle, die mit uns auf Kaperfahrt', 'Allzeit bereit',\n",
       "       'Als wir jüngst verschütt jegangen waren', 'Am Ural',\n",
       "       'Am Wald in der Schenke',\n",
       "       ...\n",
       "       'Wo's nur Felsen gibt', 'Wo soll ich mich hinkehren', 'Xekinai',\n",
       "       'Ye Jacobites', 'Zelte sah ich, Pferde, Fahnen',\n",
       "       'Ziehen die Straßen dahin', 'Zogen der Ungarn stämmige Husaren',\n",
       "       'Zogen einst fünf wilde Schwäne', 'Zogen viele Straßen',\n",
       "       'Zu Straßburg auf der Schanz'],\n",
       "      dtype='object', name='Liedanfang', length=213)"
      ]
     },
     "execution_count": 164,
     "metadata": {},
     "output_type": "execute_result"
    }
   ],
   "source": [
    "lieder.index"
   ]
  },
  {
   "cell_type": "code",
   "execution_count": 143,
   "id": "7c0047d3-7cd1-40d0-a293-b8a6ed4993cb",
   "metadata": {},
   "outputs": [],
   "source": [
    "c1 = [[\"Bunt sind schon die Wälder\"], [\"Burschen, Burschen\"]]\n",
    "c2 = [[\"Bunt sind schon die Wälder\"], [\"Bin auf meinem Weg\"]]\n",
    "c3 = [[\"Burschen, Burschen\"], [\"Bruder, nun wird es Abend\"]]\n",
    "comp = [c1, c2, c3]\n",
    "results = [[1,0], [1,0], [1,0]]\n",
    "times = [1,2,3]"
   ]
  },
  {
   "cell_type": "code",
   "execution_count": 144,
   "id": "ff3e4cea-48b9-4d58-ad50-b3c2841bb435",
   "metadata": {},
   "outputs": [],
   "source": [
    "h = ttt.History(comp, results=results, times=times, gamma=0.1)"
   ]
  },
  {
   "cell_type": "code",
   "execution_count": 146,
   "id": "66013eba-8bd5-44e4-b053-eb37745658c0",
   "metadata": {},
   "outputs": [
    {
     "data": {
      "text/plain": [
       "{'Bunt sind schon die Wälder': [(1, N(mu=3.339, sigma=4.985)),\n",
       "  (2, N(mu=5.065, sigma=4.427))],\n",
       " 'Burschen, Burschen': [(1, N(mu=-3.339, sigma=4.985)),\n",
       "  (3, N(mu=0.061, sigma=4.219))],\n",
       " 'Bin auf meinem Weg': [(2, N(mu=-2.500, sigma=4.997))],\n",
       " 'Bruder, nun wird es Abend': [(3, N(mu=-4.921, sigma=4.603))]}"
      ]
     },
     "execution_count": 146,
     "metadata": {},
     "output_type": "execute_result"
    }
   ],
   "source": [
    "h.learning_curves()"
   ]
  },
  {
   "cell_type": "code",
   "execution_count": 147,
   "id": "5a3a983b-6cf7-4e5e-9d9a-e5904a15f3fa",
   "metadata": {},
   "outputs": [
    {
     "name": "stdout",
     "output_type": "stream",
     "text": [
      "Iteration =  0 , step =  (3.9461613045445314, 0.9434316757526187)\n",
      "Iteration =  1 , step =  (0.02055990340576741, 0.04463373059271358)\n",
      "Iteration =  2 , step =  (0.0007369686467535441, 0.00021809124559801774)\n",
      "Iteration =  3 , step =  (3.872598437593133e-06, 1.1289169887795936e-05)\n",
      "Iteration =  4 , step =  (1.6137968650298262e-07, 1.0425353202947463e-07)\n",
      "End\n"
     ]
    },
    {
     "data": {
      "text/plain": [
       "{'Bunt sind schon die Wälder': [(1, N(mu=6.091, sigma=4.232)),\n",
       "  (2, N(mu=6.091, sigma=4.232))],\n",
       " 'Burschen, Burschen': [(1, N(mu=0.587, sigma=4.065)),\n",
       "  (3, N(mu=0.590, sigma=4.066))],\n",
       " 'Bin auf meinem Weg': [(2, N(mu=-2.081, sigma=5.060))],\n",
       " 'Bruder, nun wird es Abend': [(3, N(mu=-4.597, sigma=4.588))]}"
      ]
     },
     "execution_count": 147,
     "metadata": {},
     "output_type": "execute_result"
    }
   ],
   "source": [
    "h.convergence()\n",
    "h.learning_curves()"
   ]
  },
  {
   "cell_type": "code",
   "execution_count": 148,
   "id": "a6e1aa99-8a75-4970-8636-087a4d40a35c",
   "metadata": {},
   "outputs": [
    {
     "data": {
      "text/plain": [
       "{'Bunt sind schon die Wälder': <trueskillthroughtime.Agent at 0x24a88713710>,\n",
       " 'Bin auf meinem Weg': <trueskillthroughtime.Agent at 0x24a887138f0>,\n",
       " 'Bruder, nun wird es Abend': <trueskillthroughtime.Agent at 0x24a88713440>,\n",
       " 'Burschen, Burschen': <trueskillthroughtime.Agent at 0x24a88712720>}"
      ]
     },
     "execution_count": 148,
     "metadata": {},
     "output_type": "execute_result"
    }
   ],
   "source": [
    "h.agents"
   ]
  },
  {
   "cell_type": "code",
   "execution_count": 181,
   "id": "e98e10e7-d6e3-4ada-834c-09b14af1138e",
   "metadata": {},
   "outputs": [
    {
     "name": "stdout",
     "output_type": "stream",
     "text": [
      "Bunt sind schon die Wälder\n",
      "[6.090677634931782, 6.091255577431683]\n",
      "N(mu=6.091, sigma=4.232)\n",
      "Wertung           6.091256\n",
      "Unsicherheit      4.232465\n",
      "Quelle          Liederbock\n",
      "Seite                  NaN\n",
      "Name: Bunt sind schon die Wälder, dtype: object\n",
      "Bin auf meinem Weg\n",
      "[-2.080599170481537]\n",
      "N(mu=-2.081, sigma=5.060)\n",
      "Wertung          -2.080599\n",
      "Unsicherheit      5.059671\n",
      "Quelle          Liederbock\n",
      "Seite                  NaN\n",
      "Name: Bin auf meinem Weg, dtype: object\n",
      "Bruder, nun wird es Abend\n",
      "[-4.5973354850686015]\n",
      "N(mu=-4.597, sigma=4.588)\n",
      "Wertung          -4.597335\n",
      "Unsicherheit      4.587775\n",
      "Quelle          Liederbock\n",
      "Seite                  NaN\n",
      "Name: Bruder, nun wird es Abend, dtype: object\n",
      "Burschen, Burschen\n",
      "[0.5872570210127943, 0.589811097795937]\n",
      "N(mu=0.590, sigma=4.066)\n",
      "Wertung           0.589811\n",
      "Unsicherheit      4.066283\n",
      "Quelle          Liederbock\n",
      "Seite                  NaN\n",
      "Name: Burschen, Burschen, dtype: object\n"
     ]
    }
   ],
   "source": [
    "for agent in h.agents:\n",
    "    print(agent)\n",
    "    print([tp[1].mu  for tp in h.learning_curves()[agent]])\n",
    "    temp = h.learning_curves()[agent][-1][1]\n",
    "    lieder.loc[agent, [\"Wertung\", \"Unsicherheit\"]] = (temp.mu, temp.sigma)\n",
    "    print(lieder.loc[agent])"
   ]
  },
  {
   "cell_type": "code",
   "execution_count": 97,
   "id": "6cddb3d3-f027-45e6-9071-bafa5706c2dd",
   "metadata": {},
   "outputs": [
    {
     "data": {
      "text/plain": [
       "dict_keys(['Bunt sind schon die Wälder', 'Bin auf meinem Weg', 'Bruder, nun wird es Abend', 'Burschen, Burschen'])"
      ]
     },
     "execution_count": 97,
     "metadata": {},
     "output_type": "execute_result"
    }
   ],
   "source": [
    "h.agents.keys()"
   ]
  },
  {
   "cell_type": "code",
   "execution_count": 104,
   "id": "261fef8f-fb95-4d53-bde2-c61f146425d4",
   "metadata": {},
   "outputs": [],
   "source": [
    "import math; from numpy.random import normal, seed; seed(99); N = 1000\n",
    "\n",
    "def skill(experience, middle, maximum, slope):\n",
    "    return maximum/(1+math.exp(slope*(-experience+middle)))\n",
    "\n",
    "target = [skill(i, 500, 2, 0.0075) for i in range(N)]\n",
    "opponents = normal(target,scale=0.5)"
   ]
  },
  {
   "cell_type": "code",
   "execution_count": 115,
   "id": "2b636d4e-dab0-44f4-96e1-1b712aa6b9ed",
   "metadata": {},
   "outputs": [
    {
     "name": "stdout",
     "output_type": "stream",
     "text": [
      "Iteration =  0 , step =  (4.383163038054278, 3.6215983638125206)\n",
      "Iteration =  1 , step =  (3.976251813753162e-06, 1.80756838125129e-06)\n",
      "Iteration =  2 , step =  (1.368904989362818e-12, 8.238132398474818e-13)\n",
      "End\n"
     ]
    }
   ],
   "source": [
    "composition = [[[\"a\"], [str(i)]] for i in range(N)]\n",
    "results = [[1,0] if normal(target[i]) > normal(opponents[i]) else [0,1] for i in range(N)]\n",
    "times = [i for i in range(N)]\n",
    "priors = dict([(str(i), ttt.Player(ttt.Gaussian(opponents[i], 0.2))) for i in range(N)])\n",
    "h = ttt.History(composition, results, times, priors, gamma=0.015)\n",
    "h.convergence()\n",
    "mu = [tp[1].mu for tp in h.learning_curves()[\"a\"]]"
   ]
  },
  {
   "cell_type": "code",
   "execution_count": 2,
   "id": "d5866756-18b2-44ae-949b-3a3341d0d212",
   "metadata": {},
   "outputs": [
    {
     "data": {
      "text/plain": [
       "521"
      ]
     },
     "execution_count": 2,
     "metadata": {},
     "output_type": "execute_result"
    }
   ],
   "source": [
    "import datetime\n",
    "\n",
    "time_delta = datetime.date.today()-datetime.date(2022,10,1)\n",
    "time_delta.days"
   ]
  },
  {
   "cell_type": "code",
   "execution_count": 194,
   "id": "cef5fa45-9feb-45a9-85ee-94119880c33d",
   "metadata": {},
   "outputs": [
    {
     "data": {
      "text/plain": [
       "'2022-10-01'"
      ]
     },
     "execution_count": 194,
     "metadata": {},
     "output_type": "execute_result"
    }
   ],
   "source": [
    "datetime.datetime.strptime(\"2022-10-01\", \"%Y-%m-%d\").date().strftime(\"%Y-%m-%d\")"
   ]
  },
  {
   "cell_type": "code",
   "execution_count": 6,
   "id": "2900a147-2b90-4352-85e8-f80d40f42405",
   "metadata": {},
   "outputs": [],
   "source": [
    "vergleiche = pd.read_csv(\"vergleiche.csv\")"
   ]
  },
  {
   "cell_type": "code",
   "execution_count": 7,
   "id": "842c6278-2d17-426f-a5bc-88d0fb984afe",
   "metadata": {},
   "outputs": [
    {
     "data": {
      "text/html": [
       "<div>\n",
       "<style scoped>\n",
       "    .dataframe tbody tr th:only-of-type {\n",
       "        vertical-align: middle;\n",
       "    }\n",
       "\n",
       "    .dataframe tbody tr th {\n",
       "        vertical-align: top;\n",
       "    }\n",
       "\n",
       "    .dataframe thead th {\n",
       "        text-align: right;\n",
       "    }\n",
       "</style>\n",
       "<table border=\"1\" class=\"dataframe\">\n",
       "  <thead>\n",
       "    <tr style=\"text-align: right;\">\n",
       "      <th></th>\n",
       "      <th>Datum</th>\n",
       "      <th>Gewinner</th>\n",
       "      <th>Verlierer</th>\n",
       "    </tr>\n",
       "  </thead>\n",
       "  <tbody>\n",
       "    <tr>\n",
       "      <th>0</th>\n",
       "      <td>2024-03-03</td>\n",
       "      <td>Bunt sind schon die Wälder</td>\n",
       "      <td>Burschen, Burschen</td>\n",
       "    </tr>\n",
       "    <tr>\n",
       "      <th>1</th>\n",
       "      <td>2024-03-03</td>\n",
       "      <td>Bunt sind schon die Wälder</td>\n",
       "      <td>Bin auf meinem Weg</td>\n",
       "    </tr>\n",
       "    <tr>\n",
       "      <th>2</th>\n",
       "      <td>2024-03-03</td>\n",
       "      <td>Burschen, Burschen</td>\n",
       "      <td>Bruder, nun wird es Abend</td>\n",
       "    </tr>\n",
       "    <tr>\n",
       "      <th>3</th>\n",
       "      <td>2024-03-04</td>\n",
       "      <td>An der Allee</td>\n",
       "      <td>Burschen, Burschen</td>\n",
       "    </tr>\n",
       "    <tr>\n",
       "      <th>4</th>\n",
       "      <td>2024-03-04</td>\n",
       "      <td>An den sechs vergangnen Tagen</td>\n",
       "      <td>Burschen, Burschen</td>\n",
       "    </tr>\n",
       "    <tr>\n",
       "      <th>5</th>\n",
       "      <td>2024-03-04</td>\n",
       "      <td>An der Allee</td>\n",
       "      <td>An den sechs vergangnen Tagen</td>\n",
       "    </tr>\n",
       "  </tbody>\n",
       "</table>\n",
       "</div>"
      ],
      "text/plain": [
       "        Datum                       Gewinner                      Verlierer\n",
       "0  2024-03-03     Bunt sind schon die Wälder             Burschen, Burschen\n",
       "1  2024-03-03     Bunt sind schon die Wälder             Bin auf meinem Weg\n",
       "2  2024-03-03             Burschen, Burschen      Bruder, nun wird es Abend\n",
       "3  2024-03-04                   An der Allee             Burschen, Burschen\n",
       "4  2024-03-04  An den sechs vergangnen Tagen             Burschen, Burschen\n",
       "5  2024-03-04                   An der Allee  An den sechs vergangnen Tagen"
      ]
     },
     "execution_count": 7,
     "metadata": {},
     "output_type": "execute_result"
    }
   ],
   "source": [
    "vergleiche"
   ]
  },
  {
   "cell_type": "code",
   "execution_count": 37,
   "id": "de29ddd9-4c2a-4a15-8d07-c1c33b1e9b31",
   "metadata": {},
   "outputs": [
    {
     "data": {
      "text/plain": [
       "[[['Bunt sind schon die Wälder'], ['Burschen, Burschen']],\n",
       " [['Bunt sind schon die Wälder'], ['Bin auf meinem Weg']],\n",
       " [['Burschen, Burschen'], ['Bruder, nun wird es Abend']],\n",
       " [['An der Allee'], ['Burschen, Burschen']],\n",
       " [['An den sechs vergangnen Tagen'], ['Burschen, Burschen']],\n",
       " [['An der Allee'], ['An den sechs vergangnen Tagen']]]"
      ]
     },
     "execution_count": 37,
     "metadata": {},
     "output_type": "execute_result"
    }
   ],
   "source": [
    "comp =  [[[gewinner], [verlierer]] for gewinner, verlierer in zip(vergleiche[\"Gewinner\"], vergleiche[\"Verlierer\"])]\n",
    "comp"
   ]
  },
  {
   "cell_type": "code",
   "execution_count": 38,
   "id": "774795e4-da5c-4e81-88d8-5e07a93073ab",
   "metadata": {},
   "outputs": [
    {
     "data": {
      "text/plain": [
       "[2, 2, 2, 1, 1, 1]"
      ]
     },
     "execution_count": 38,
     "metadata": {},
     "output_type": "execute_result"
    }
   ],
   "source": [
    "times = vergleiche[\"Datum\"].map(lambda string: (datetime.date.today()-datetime.datetime.strptime(string, \"%Y-%m-%d\").date()).days).to_list()\n",
    "times"
   ]
  },
  {
   "cell_type": "code",
   "execution_count": 40,
   "id": "023028e0-5cb6-4b33-bec6-f5d916d51bb1",
   "metadata": {},
   "outputs": [
    {
     "name": "stdout",
     "output_type": "stream",
     "text": [
      "Iteration =  0 , step =  (1.9660406424290073, 1.108347375420756)\n",
      "Iteration =  1 , step =  (0.4397632051686897, 0.04909397092380363)\n",
      "Iteration =  2 , step =  (0.01078748956986919, 0.01052202836045435)\n",
      "Iteration =  3 , step =  (0.005169412809664209, 0.002245562627031461)\n",
      "Iteration =  4 , step =  (0.0011975637527479321, 0.00030334652218044766)\n",
      "Iteration =  5 , step =  (0.000220315896757306, 9.17777623259397e-05)\n",
      "Iteration =  6 , step =  (4.879335067276003e-05, 1.2188177581862192e-05)\n",
      "Iteration =  7 , step =  (9.155142029371177e-06, 3.873379767149743e-06)\n",
      "Iteration =  8 , step =  (2.0306578059070546e-06, 5.260595496991982e-07)\n",
      "Iteration =  9 , step =  (3.840648465924801e-07, 1.6288504589567765e-07)\n",
      "End\n"
     ]
    },
    {
     "data": {
      "text/plain": [
       "{'An den sechs vergangnen Tagen': [(1, N(mu=1.207, sigma=3.580))],\n",
       " 'Burschen, Burschen': [(1, N(mu=-2.674, sigma=3.273)),\n",
       "  (2, N(mu=-2.673, sigma=3.274))],\n",
       " 'An der Allee': [(1, N(mu=5.953, sigma=4.026))],\n",
       " 'Bruder, nun wird es Abend': [(2, N(mu=-6.524, sigma=4.091))],\n",
       " 'Bunt sind schon die Wälder': [(2, N(mu=4.677, sigma=4.323))],\n",
       " 'Bin auf meinem Weg': [(2, N(mu=-2.639, sigma=4.950))]}"
      ]
     },
     "execution_count": 40,
     "metadata": {},
     "output_type": "execute_result"
    }
   ],
   "source": [
    "h = ttt.History(comp, times=times, gamma=0.1)\n",
    "h.convergence()\n",
    "h.learning_curves()"
   ]
  },
  {
   "cell_type": "code",
   "execution_count": 47,
   "id": "b731a19a-3276-44a5-822c-bd9735731d7e",
   "metadata": {},
   "outputs": [
    {
     "name": "stdout",
     "output_type": "stream",
     "text": [
      "Burschen, Burschen\n",
      "[-2.674108693758902, -2.672862584326061]\n",
      "Wertung          -2.672863\n",
      "Unsicherheit      3.273609\n",
      "Quelle          Liederbock\n",
      "Seite                 46.0\n",
      "Name: Burschen, Burschen, dtype: object\n",
      "Bunt sind schon die Wälder\n",
      "[4.676963077554951]\n",
      "Wertung           4.676963\n",
      "Unsicherheit      4.322851\n",
      "Quelle          Liederbock\n",
      "Seite                 44.0\n",
      "Name: Bunt sind schon die Wälder, dtype: object\n",
      "Bin auf meinem Weg\n",
      "[-2.638862255194752]\n",
      "Wertung          -2.638862\n",
      "Unsicherheit      4.949826\n",
      "Quelle          Liederbock\n",
      "Seite                 40.0\n",
      "Name: Bin auf meinem Weg, dtype: object\n",
      "An der Allee\n",
      "[5.95325770683055]\n",
      "Wertung           5.953258\n",
      "Unsicherheit      4.025716\n",
      "Quelle          Liederbock\n",
      "Seite                 28.0\n",
      "Name: An der Allee, dtype: object\n",
      "Bruder, nun wird es Abend\n",
      "[-6.524075994600914]\n",
      "Wertung          -6.524076\n",
      "Unsicherheit      4.091092\n",
      "Quelle          Liederbock\n",
      "Seite                 42.0\n",
      "Name: Bruder, nun wird es Abend, dtype: object\n",
      "An den sechs vergangnen Tagen\n",
      "[1.206826462084194]\n",
      "Wertung           1.206826\n",
      "Unsicherheit      3.580022\n",
      "Quelle          Liederbock\n",
      "Seite                 26.0\n",
      "Name: An den sechs vergangnen Tagen, dtype: object\n"
     ]
    }
   ],
   "source": [
    "for agent in h.agents:\n",
    "    print(agent)\n",
    "    print([tp[1].mu  for tp in h.learning_curves()[agent]])\n",
    "    temp = h.learning_curves()[agent][-1][1]\n",
    "    lieder.loc[agent, [\"Wertung\", \"Unsicherheit\"]] = (temp.mu, temp.sigma)\n",
    "    print(lieder.loc[agent])"
   ]
  },
  {
   "cell_type": "code",
   "execution_count": 198,
   "id": "cd615766-deb9-43fb-aeb8-3e6f379fdfd9",
   "metadata": {},
   "outputs": [],
   "source": [
    "vergleiche.loc[len(vergleiche)] = [datetime.date.today().strftime(\"%Y-%m-%d\"), \"Burschen, Burschen\", \"Triodimali\"]"
   ]
  },
  {
   "cell_type": "code",
   "execution_count": 199,
   "id": "71518e93-cdd5-48e4-9073-714dbb3a2ded",
   "metadata": {},
   "outputs": [
    {
     "data": {
      "text/html": [
       "<div>\n",
       "<style scoped>\n",
       "    .dataframe tbody tr th:only-of-type {\n",
       "        vertical-align: middle;\n",
       "    }\n",
       "\n",
       "    .dataframe tbody tr th {\n",
       "        vertical-align: top;\n",
       "    }\n",
       "\n",
       "    .dataframe thead th {\n",
       "        text-align: right;\n",
       "    }\n",
       "</style>\n",
       "<table border=\"1\" class=\"dataframe\">\n",
       "  <thead>\n",
       "    <tr style=\"text-align: right;\">\n",
       "      <th></th>\n",
       "      <th>Datum</th>\n",
       "      <th>Gewinner</th>\n",
       "      <th>Verlierer</th>\n",
       "    </tr>\n",
       "  </thead>\n",
       "  <tbody>\n",
       "    <tr>\n",
       "      <th>0</th>\n",
       "      <td>2024-03-03</td>\n",
       "      <td>Bunt sind schon die Wälder</td>\n",
       "      <td>Burschen, Burschen</td>\n",
       "    </tr>\n",
       "    <tr>\n",
       "      <th>1</th>\n",
       "      <td>2024-03-03</td>\n",
       "      <td>Bunt sind schon die Wälder</td>\n",
       "      <td>Bin auf meinem Weg</td>\n",
       "    </tr>\n",
       "    <tr>\n",
       "      <th>2</th>\n",
       "      <td>2024-03-03</td>\n",
       "      <td>Burschen, Burschen</td>\n",
       "      <td>Bruder, nun wird es Abend</td>\n",
       "    </tr>\n",
       "    <tr>\n",
       "      <th>3</th>\n",
       "      <td>2024-03-04</td>\n",
       "      <td>Burschen, Burschen</td>\n",
       "      <td>Triodimali</td>\n",
       "    </tr>\n",
       "  </tbody>\n",
       "</table>\n",
       "</div>"
      ],
      "text/plain": [
       "        Datum                    Gewinner                  Verlierer\n",
       "0  2024-03-03  Bunt sind schon die Wälder         Burschen, Burschen\n",
       "1  2024-03-03  Bunt sind schon die Wälder         Bin auf meinem Weg\n",
       "2  2024-03-03          Burschen, Burschen  Bruder, nun wird es Abend\n",
       "3  2024-03-04          Burschen, Burschen                 Triodimali"
      ]
     },
     "execution_count": 199,
     "metadata": {},
     "output_type": "execute_result"
    }
   ],
   "source": [
    "vergleiche"
   ]
  },
  {
   "cell_type": "code",
   "execution_count": 203,
   "id": "5cef6619-264b-4b5b-bca4-cd8cf5a4fbfc",
   "metadata": {},
   "outputs": [],
   "source": [
    "vergleiche.to_csv(\"vergleiche2.csv\", index=False)"
   ]
  },
  {
   "cell_type": "code",
   "execution_count": null,
   "id": "2636618b-fb5c-4845-9d16-bc25a48b7815",
   "metadata": {},
   "outputs": [],
   "source": []
  }
 ],
 "metadata": {
  "kernelspec": {
   "display_name": "Python 3 (ipykernel)",
   "language": "python",
   "name": "python3"
  },
  "language_info": {
   "codemirror_mode": {
    "name": "ipython",
    "version": 3
   },
   "file_extension": ".py",
   "mimetype": "text/x-python",
   "name": "python",
   "nbconvert_exporter": "python",
   "pygments_lexer": "ipython3",
   "version": "3.12.1"
  }
 },
 "nbformat": 4,
 "nbformat_minor": 5
}
