{
 "cells": [
  {
   "cell_type": "code",
   "execution_count": 77,
   "id": "bbf354c6-923e-4325-b3fb-d2df6a8c536e",
   "metadata": {},
   "outputs": [],
   "source": [
    "import trueskillthroughtime as ttt"
   ]
  },
  {
   "cell_type": "code",
   "execution_count": 2,
   "id": "b8ec6f8f-2de9-45b0-890c-0e830c5a065b",
   "metadata": {},
   "outputs": [],
   "source": [
    "songs = {\n",
    "    \"Abends treten Elche\": ttt.Player(),\n",
    "    \"Aber am Abend\": ttt.Player()\n",
    "}"
   ]
  },
  {
   "cell_type": "code",
   "execution_count": 3,
   "id": "676620f0-c453-4d90-9242-ecc08ba021f3",
   "metadata": {},
   "outputs": [
    {
     "data": {
      "text/plain": [
       "Player(Gaussian(mu=0.000, sigma=6.000), beta=1.000, gamma=0.030)"
      ]
     },
     "execution_count": 3,
     "metadata": {},
     "output_type": "execute_result"
    }
   ],
   "source": [
    "songs[\"Aber am Abend\"]"
   ]
  },
  {
   "cell_type": "code",
   "execution_count": 4,
   "id": "89558e8e-dbb6-404e-9f2e-de29246cf8c7",
   "metadata": {},
   "outputs": [],
   "source": [
    "g = ttt.Game([[songs[\"Abends treten Elche\"]], [songs[\"Aber am Abend\"]]])"
   ]
  },
  {
   "cell_type": "code",
   "execution_count": 5,
   "id": "9f06031e-7c93-4f12-8d26-119406a79e5f",
   "metadata": {},
   "outputs": [
    {
     "data": {
      "text/plain": [
       "[[N(mu=3.339, sigma=4.985)], [N(mu=-3.339, sigma=4.985)]]"
      ]
     },
     "execution_count": 5,
     "metadata": {},
     "output_type": "execute_result"
    }
   ],
   "source": [
    "g.posteriors()"
   ]
  },
  {
   "cell_type": "code",
   "execution_count": 1,
   "id": "ab60d6d0-1f6a-499b-8562-c6071ae012e4",
   "metadata": {},
   "outputs": [],
   "source": [
    "import pandas as pd\n",
    "import os.path"
   ]
  },
  {
   "cell_type": "code",
   "execution_count": 68,
   "id": "ce563084-536c-4936-817c-ce7d2b6762ac",
   "metadata": {},
   "outputs": [],
   "source": [
    "lieder = pd.read_csv(\"liederliste.csv\")"
   ]
  },
  {
   "cell_type": "code",
   "execution_count": 69,
   "id": "b4ebe726-3338-4308-a3d5-df096ee3b7f2",
   "metadata": {},
   "outputs": [],
   "source": [
    "vergleiche = pd.read_csv(\"vergleiche.csv\")\n",
    "vergleiche2 = vergleiche.copy()"
   ]
  },
  {
   "cell_type": "code",
   "execution_count": 70,
   "id": "cf112ba0-4de6-4ade-be60-f27ebfdfb552",
   "metadata": {},
   "outputs": [],
   "source": [
    "vergleiche2[\"Gewinner\"] = vergleiche.apply(\n",
    "    lambda x: x[\"Gewinner\"]+\"@\"+lieder.loc[lieder['Liedanfang'] == x[\"Gewinner\"]][\"Quelle\"].values[0],\n",
    "    axis=1\n",
    ")"
   ]
  },
  {
   "cell_type": "code",
   "execution_count": 71,
   "id": "af142b4c-40fc-4424-9fb8-ff2aeab3bf6f",
   "metadata": {},
   "outputs": [],
   "source": [
    "vergleiche2[\"Verlierer\"] = vergleiche.apply(\n",
    "    lambda x: x[\"Verlierer\"]+\"@\"+lieder.loc[lieder['Liedanfang'] == x[\"Verlierer\"]][\"Quelle\"].values[0],\n",
    "    axis=1\n",
    ")"
   ]
  },
  {
   "cell_type": "code",
   "execution_count": 72,
   "id": "64c91896-a495-4707-9913-4c63edf0d937",
   "metadata": {},
   "outputs": [
    {
     "data": {
      "text/html": [
       "<div>\n",
       "<style scoped>\n",
       "    .dataframe tbody tr th:only-of-type {\n",
       "        vertical-align: middle;\n",
       "    }\n",
       "\n",
       "    .dataframe tbody tr th {\n",
       "        vertical-align: top;\n",
       "    }\n",
       "\n",
       "    .dataframe thead th {\n",
       "        text-align: right;\n",
       "    }\n",
       "</style>\n",
       "<table border=\"1\" class=\"dataframe\">\n",
       "  <thead>\n",
       "    <tr style=\"text-align: right;\">\n",
       "      <th></th>\n",
       "      <th>Datum</th>\n",
       "      <th>Gewinner</th>\n",
       "      <th>Verlierer</th>\n",
       "    </tr>\n",
       "  </thead>\n",
       "  <tbody>\n",
       "    <tr>\n",
       "      <th>0</th>\n",
       "      <td>2024-03-03</td>\n",
       "      <td>Bunt sind schon die Wälder@Liederbock</td>\n",
       "      <td>Burschen, Burschen@Liederbock</td>\n",
       "    </tr>\n",
       "    <tr>\n",
       "      <th>1</th>\n",
       "      <td>2024-03-03</td>\n",
       "      <td>Bunt sind schon die Wälder@Liederbock</td>\n",
       "      <td>Bin auf meinem Weg@Liederbock</td>\n",
       "    </tr>\n",
       "    <tr>\n",
       "      <th>2</th>\n",
       "      <td>2024-03-03</td>\n",
       "      <td>Burschen, Burschen@Liederbock</td>\n",
       "      <td>Bruder, nun wird es Abend@Liederbock</td>\n",
       "    </tr>\n",
       "    <tr>\n",
       "      <th>3</th>\n",
       "      <td>2024-03-04</td>\n",
       "      <td>An der Allee@Liederbock</td>\n",
       "      <td>Burschen, Burschen@Liederbock</td>\n",
       "    </tr>\n",
       "    <tr>\n",
       "      <th>4</th>\n",
       "      <td>2024-03-04</td>\n",
       "      <td>An den sechs vergangnen Tagen@Liederbock</td>\n",
       "      <td>Burschen, Burschen@Liederbock</td>\n",
       "    </tr>\n",
       "    <tr>\n",
       "      <th>...</th>\n",
       "      <td>...</td>\n",
       "      <td>...</td>\n",
       "      <td>...</td>\n",
       "    </tr>\n",
       "    <tr>\n",
       "      <th>154</th>\n",
       "      <td>2024-04-07</td>\n",
       "      <td>Kommt Freunde in die Runde@Liederbock</td>\n",
       "      <td>Das Trinken@unbekannt</td>\n",
       "    </tr>\n",
       "    <tr>\n",
       "      <th>155</th>\n",
       "      <td>2024-04-07</td>\n",
       "      <td>Frühling dringt in den Norden@Liederbock</td>\n",
       "      <td>Lang war die Reise@Liederbock</td>\n",
       "    </tr>\n",
       "    <tr>\n",
       "      <th>156</th>\n",
       "      <td>2024-04-07</td>\n",
       "      <td>Mädchen, Männer, Meister@Liederbock</td>\n",
       "      <td>Leise weht der Wind@Liederbock</td>\n",
       "    </tr>\n",
       "    <tr>\n",
       "      <th>157</th>\n",
       "      <td>2024-04-07</td>\n",
       "      <td>The Wellerman@unbekannt</td>\n",
       "      <td>Mich brennt's in meinen Reiseschuhn@Liederbock</td>\n",
       "    </tr>\n",
       "    <tr>\n",
       "      <th>158</th>\n",
       "      <td>2024-04-07</td>\n",
       "      <td>Nach Süden nun sich lenken die Vögelein@Lieder...</td>\n",
       "      <td>Nachts auf dem Dorfplatz@Liederbock</td>\n",
       "    </tr>\n",
       "  </tbody>\n",
       "</table>\n",
       "<p>159 rows × 3 columns</p>\n",
       "</div>"
      ],
      "text/plain": [
       "          Datum                                           Gewinner  \\\n",
       "0    2024-03-03              Bunt sind schon die Wälder@Liederbock   \n",
       "1    2024-03-03              Bunt sind schon die Wälder@Liederbock   \n",
       "2    2024-03-03                      Burschen, Burschen@Liederbock   \n",
       "3    2024-03-04                            An der Allee@Liederbock   \n",
       "4    2024-03-04           An den sechs vergangnen Tagen@Liederbock   \n",
       "..          ...                                                ...   \n",
       "154  2024-04-07              Kommt Freunde in die Runde@Liederbock   \n",
       "155  2024-04-07           Frühling dringt in den Norden@Liederbock   \n",
       "156  2024-04-07                Mädchen, Männer, Meister@Liederbock   \n",
       "157  2024-04-07                            The Wellerman@unbekannt   \n",
       "158  2024-04-07  Nach Süden nun sich lenken die Vögelein@Lieder...   \n",
       "\n",
       "                                          Verlierer  \n",
       "0                     Burschen, Burschen@Liederbock  \n",
       "1                     Bin auf meinem Weg@Liederbock  \n",
       "2              Bruder, nun wird es Abend@Liederbock  \n",
       "3                     Burschen, Burschen@Liederbock  \n",
       "4                     Burschen, Burschen@Liederbock  \n",
       "..                                              ...  \n",
       "154                           Das Trinken@unbekannt  \n",
       "155                   Lang war die Reise@Liederbock  \n",
       "156                  Leise weht der Wind@Liederbock  \n",
       "157  Mich brennt's in meinen Reiseschuhn@Liederbock  \n",
       "158             Nachts auf dem Dorfplatz@Liederbock  \n",
       "\n",
       "[159 rows x 3 columns]"
      ]
     },
     "execution_count": 72,
     "metadata": {},
     "output_type": "execute_result"
    }
   ],
   "source": [
    "vergleiche2"
   ]
  },
  {
   "cell_type": "code",
   "execution_count": 73,
   "id": "bfca76b6-3391-4a39-9b58-0dece9babbee",
   "metadata": {},
   "outputs": [],
   "source": [
    "vergleiche2.to_csv(\"vergleiche2.csv\", index=False)"
   ]
  },
  {
   "cell_type": "code",
   "execution_count": 78,
   "id": "12d0a362-abff-4050-a2dc-237474ec235d",
   "metadata": {},
   "outputs": [],
   "source": [
    "lieder.insert(1, \"Wertung\", ttt.MU, True)\n",
    "lieder.insert(2, \"Unsicherheit\", ttt.SIGMA, True)\n",
    "# lieder.insert(6, \"Bildpfad\", \"\", True)"
   ]
  },
  {
   "cell_type": "code",
   "execution_count": 74,
   "id": "858c28c8-8405-4ce2-89bd-35b242f9ad84",
   "metadata": {},
   "outputs": [],
   "source": [
    "lieder[\"Bildpfad\"] = lieder[\"Liedanfang\"].map(lambda x: os.path.isfile(\"../client/public/images/songs/\"+x.lower().replace(\" \", \"_\").replace(\",\", \"\").replace(\"'\", \"\")+\".png\"))"
   ]
  },
  {
   "cell_type": "code",
   "execution_count": 75,
   "id": "c56ad446-746f-4d7e-9e59-190918fc4f14",
   "metadata": {},
   "outputs": [
    {
     "data": {
      "text/html": [
       "<div>\n",
       "<style scoped>\n",
       "    .dataframe tbody tr th:only-of-type {\n",
       "        vertical-align: middle;\n",
       "    }\n",
       "\n",
       "    .dataframe tbody tr th {\n",
       "        vertical-align: top;\n",
       "    }\n",
       "\n",
       "    .dataframe thead th {\n",
       "        text-align: right;\n",
       "    }\n",
       "</style>\n",
       "<table border=\"1\" class=\"dataframe\">\n",
       "  <thead>\n",
       "    <tr style=\"text-align: right;\">\n",
       "      <th></th>\n",
       "      <th>Liedanfang</th>\n",
       "      <th>Wertung</th>\n",
       "      <th>Unsicherheit</th>\n",
       "      <th>Quelle</th>\n",
       "      <th>Seite</th>\n",
       "      <th>Videolink</th>\n",
       "      <th>Bildpfad</th>\n",
       "    </tr>\n",
       "  </thead>\n",
       "  <tbody>\n",
       "    <tr>\n",
       "      <th>0</th>\n",
       "      <td>Abends treten Elche</td>\n",
       "      <td>0.0</td>\n",
       "      <td>6.0</td>\n",
       "      <td>Liederbock</td>\n",
       "      <td>3.0</td>\n",
       "      <td>https://www.youtube.com/embed/2lU8ZTeuK5I?si=M...</td>\n",
       "      <td>True</td>\n",
       "    </tr>\n",
       "    <tr>\n",
       "      <th>1</th>\n",
       "      <td>Abend ward</td>\n",
       "      <td>0.0</td>\n",
       "      <td>6.0</td>\n",
       "      <td>Liederbock</td>\n",
       "      <td>4.0</td>\n",
       "      <td>https://www.youtube.com/embed/pHvF6o4ntZY?si=J...</td>\n",
       "      <td>True</td>\n",
       "    </tr>\n",
       "    <tr>\n",
       "      <th>2</th>\n",
       "      <td>Aber am Abend laden wir uns ein</td>\n",
       "      <td>0.0</td>\n",
       "      <td>6.0</td>\n",
       "      <td>Liederbock</td>\n",
       "      <td>6.0</td>\n",
       "      <td>https://www.youtube.com/embed/vcGsARFpkVg?si=K...</td>\n",
       "      <td>True</td>\n",
       "    </tr>\n",
       "    <tr>\n",
       "      <th>3</th>\n",
       "      <td>Ach wie eilte so geschwinde</td>\n",
       "      <td>0.0</td>\n",
       "      <td>6.0</td>\n",
       "      <td>Liederbock</td>\n",
       "      <td>8.0</td>\n",
       "      <td>https://www.youtube.com/embed/3H5GVH5viqw?si=R...</td>\n",
       "      <td>True</td>\n",
       "    </tr>\n",
       "    <tr>\n",
       "      <th>4</th>\n",
       "      <td>Ade zur guten Nacht</td>\n",
       "      <td>0.0</td>\n",
       "      <td>6.0</td>\n",
       "      <td>Liederbock</td>\n",
       "      <td>10.0</td>\n",
       "      <td>https://www.youtube.com/embed/EpctqNYm6Uc?si=0...</td>\n",
       "      <td>True</td>\n",
       "    </tr>\n",
       "    <tr>\n",
       "      <th>...</th>\n",
       "      <td>...</td>\n",
       "      <td>...</td>\n",
       "      <td>...</td>\n",
       "      <td>...</td>\n",
       "      <td>...</td>\n",
       "      <td>...</td>\n",
       "      <td>...</td>\n",
       "    </tr>\n",
       "    <tr>\n",
       "      <th>209</th>\n",
       "      <td>a est u nas v rajone moldavanki</td>\n",
       "      <td>0.0</td>\n",
       "      <td>6.0</td>\n",
       "      <td>Doppelbock</td>\n",
       "      <td>6.0</td>\n",
       "      <td>https://www.youtube.com/embed/0C4oEhBnLdg?si=u...</td>\n",
       "      <td>False</td>\n",
       "    </tr>\n",
       "    <tr>\n",
       "      <th>210</th>\n",
       "      <td>The Yew Tree</td>\n",
       "      <td>0.0</td>\n",
       "      <td>6.0</td>\n",
       "      <td>Doppelbock</td>\n",
       "      <td>10.0</td>\n",
       "      <td>https://www.youtube.com/embed/j8nIFwpb3NQ?si=w...</td>\n",
       "      <td>False</td>\n",
       "    </tr>\n",
       "    <tr>\n",
       "      <th>211</th>\n",
       "      <td>Abends geh'n die Liebespaare langsam durch das...</td>\n",
       "      <td>0.0</td>\n",
       "      <td>6.0</td>\n",
       "      <td>Doppelbock</td>\n",
       "      <td>14.0</td>\n",
       "      <td>https://www.youtube.com/embed/4DJZ-Kwd_1E?si=w...</td>\n",
       "      <td>False</td>\n",
       "    </tr>\n",
       "    <tr>\n",
       "      <th>212</th>\n",
       "      <td>Seit Tagen schon wandern wir</td>\n",
       "      <td>0.0</td>\n",
       "      <td>6.0</td>\n",
       "      <td>Doppelbock</td>\n",
       "      <td>364.0</td>\n",
       "      <td>https://www.youtube.com/embed/WBU8edh_Wls?si=c...</td>\n",
       "      <td>False</td>\n",
       "    </tr>\n",
       "    <tr>\n",
       "      <th>213</th>\n",
       "      <td>Die Bauern wollten Frei sein</td>\n",
       "      <td>0.0</td>\n",
       "      <td>6.0</td>\n",
       "      <td>Sankt Georg</td>\n",
       "      <td>21.0</td>\n",
       "      <td>https://www.youtube.com/embed/g59J6TS_1Lg?si=a...</td>\n",
       "      <td>False</td>\n",
       "    </tr>\n",
       "  </tbody>\n",
       "</table>\n",
       "<p>214 rows × 7 columns</p>\n",
       "</div>"
      ],
      "text/plain": [
       "                                            Liedanfang  Wertung  Unsicherheit  \\\n",
       "0                                  Abends treten Elche      0.0           6.0   \n",
       "1                                           Abend ward      0.0           6.0   \n",
       "2                      Aber am Abend laden wir uns ein      0.0           6.0   \n",
       "3                          Ach wie eilte so geschwinde      0.0           6.0   \n",
       "4                                  Ade zur guten Nacht      0.0           6.0   \n",
       "..                                                 ...      ...           ...   \n",
       "209                    a est u nas v rajone moldavanki      0.0           6.0   \n",
       "210                                       The Yew Tree      0.0           6.0   \n",
       "211  Abends geh'n die Liebespaare langsam durch das...      0.0           6.0   \n",
       "212                       Seit Tagen schon wandern wir      0.0           6.0   \n",
       "213                       Die Bauern wollten Frei sein      0.0           6.0   \n",
       "\n",
       "          Quelle  Seite                                          Videolink  \\\n",
       "0     Liederbock    3.0  https://www.youtube.com/embed/2lU8ZTeuK5I?si=M...   \n",
       "1     Liederbock    4.0  https://www.youtube.com/embed/pHvF6o4ntZY?si=J...   \n",
       "2     Liederbock    6.0  https://www.youtube.com/embed/vcGsARFpkVg?si=K...   \n",
       "3     Liederbock    8.0  https://www.youtube.com/embed/3H5GVH5viqw?si=R...   \n",
       "4     Liederbock   10.0  https://www.youtube.com/embed/EpctqNYm6Uc?si=0...   \n",
       "..           ...    ...                                                ...   \n",
       "209   Doppelbock    6.0  https://www.youtube.com/embed/0C4oEhBnLdg?si=u...   \n",
       "210   Doppelbock   10.0  https://www.youtube.com/embed/j8nIFwpb3NQ?si=w...   \n",
       "211   Doppelbock   14.0  https://www.youtube.com/embed/4DJZ-Kwd_1E?si=w...   \n",
       "212   Doppelbock  364.0  https://www.youtube.com/embed/WBU8edh_Wls?si=c...   \n",
       "213  Sankt Georg   21.0  https://www.youtube.com/embed/g59J6TS_1Lg?si=a...   \n",
       "\n",
       "     Bildpfad  \n",
       "0        True  \n",
       "1        True  \n",
       "2        True  \n",
       "3        True  \n",
       "4        True  \n",
       "..        ...  \n",
       "209     False  \n",
       "210     False  \n",
       "211     False  \n",
       "212     False  \n",
       "213     False  \n",
       "\n",
       "[214 rows x 7 columns]"
      ]
     },
     "execution_count": 75,
     "metadata": {},
     "output_type": "execute_result"
    }
   ],
   "source": [
    "lieder"
   ]
  },
  {
   "cell_type": "code",
   "execution_count": 45,
   "id": "f69216c9-968b-4ad8-8e4a-70cfe8340124",
   "metadata": {},
   "outputs": [
    {
     "data": {
      "text/plain": [
       "Index(['Liedanfang', 'Wertung', 'Unsicherheit', 'Quelle', 'Seite'], dtype='object')"
      ]
     },
     "execution_count": 45,
     "metadata": {},
     "output_type": "execute_result"
    }
   ],
   "source": [
    "lieder.keys()"
   ]
  },
  {
   "cell_type": "code",
   "execution_count": 46,
   "id": "a71c1a43-98c0-4ba0-8f1f-ac270e205b42",
   "metadata": {},
   "outputs": [],
   "source": [
    "lieder = lieder.set_index(\"Liedanfang\")"
   ]
  },
  {
   "cell_type": "code",
   "execution_count": 164,
   "id": "4d1830a4-b745-4acd-9bb0-8e730fc788e4",
   "metadata": {},
   "outputs": [
    {
     "data": {
      "text/plain": [
       "Index(['Abends treten Elche', 'Abend ward', 'Aber am Abend laden wir uns ein',\n",
       "       'Ach wie eilte so geschwinde', 'Ade zur guten Nacht',\n",
       "       'Alle, die mit uns auf Kaperfahrt', 'Allzeit bereit',\n",
       "       'Als wir jüngst verschütt jegangen waren', 'Am Ural',\n",
       "       'Am Wald in der Schenke',\n",
       "       ...\n",
       "       'Wo's nur Felsen gibt', 'Wo soll ich mich hinkehren', 'Xekinai',\n",
       "       'Ye Jacobites', 'Zelte sah ich, Pferde, Fahnen',\n",
       "       'Ziehen die Straßen dahin', 'Zogen der Ungarn stämmige Husaren',\n",
       "       'Zogen einst fünf wilde Schwäne', 'Zogen viele Straßen',\n",
       "       'Zu Straßburg auf der Schanz'],\n",
       "      dtype='object', name='Liedanfang', length=213)"
      ]
     },
     "execution_count": 164,
     "metadata": {},
     "output_type": "execute_result"
    }
   ],
   "source": [
    "lieder.index"
   ]
  },
  {
   "cell_type": "code",
   "execution_count": 143,
   "id": "7c0047d3-7cd1-40d0-a293-b8a6ed4993cb",
   "metadata": {},
   "outputs": [],
   "source": [
    "c1 = [[\"Bunt sind schon die Wälder\"], [\"Burschen, Burschen\"]]\n",
    "c2 = [[\"Bunt sind schon die Wälder\"], [\"Bin auf meinem Weg\"]]\n",
    "c3 = [[\"Burschen, Burschen\"], [\"Bruder, nun wird es Abend\"]]\n",
    "comp = [c1, c2, c3]\n",
    "results = [[1,0], [1,0], [1,0]]\n",
    "times = [1,2,3]"
   ]
  },
  {
   "cell_type": "code",
   "execution_count": 144,
   "id": "ff3e4cea-48b9-4d58-ad50-b3c2841bb435",
   "metadata": {},
   "outputs": [],
   "source": [
    "h = ttt.History(comp, results=results, times=times, gamma=0.1)"
   ]
  },
  {
   "cell_type": "code",
   "execution_count": 146,
   "id": "66013eba-8bd5-44e4-b053-eb37745658c0",
   "metadata": {},
   "outputs": [
    {
     "data": {
      "text/plain": [
       "{'Bunt sind schon die Wälder': [(1, N(mu=3.339, sigma=4.985)),\n",
       "  (2, N(mu=5.065, sigma=4.427))],\n",
       " 'Burschen, Burschen': [(1, N(mu=-3.339, sigma=4.985)),\n",
       "  (3, N(mu=0.061, sigma=4.219))],\n",
       " 'Bin auf meinem Weg': [(2, N(mu=-2.500, sigma=4.997))],\n",
       " 'Bruder, nun wird es Abend': [(3, N(mu=-4.921, sigma=4.603))]}"
      ]
     },
     "execution_count": 146,
     "metadata": {},
     "output_type": "execute_result"
    }
   ],
   "source": [
    "h.learning_curves()"
   ]
  },
  {
   "cell_type": "code",
   "execution_count": 147,
   "id": "5a3a983b-6cf7-4e5e-9d9a-e5904a15f3fa",
   "metadata": {},
   "outputs": [
    {
     "name": "stdout",
     "output_type": "stream",
     "text": [
      "Iteration =  0 , step =  (3.9461613045445314, 0.9434316757526187)\n",
      "Iteration =  1 , step =  (0.02055990340576741, 0.04463373059271358)\n",
      "Iteration =  2 , step =  (0.0007369686467535441, 0.00021809124559801774)\n",
      "Iteration =  3 , step =  (3.872598437593133e-06, 1.1289169887795936e-05)\n",
      "Iteration =  4 , step =  (1.6137968650298262e-07, 1.0425353202947463e-07)\n",
      "End\n"
     ]
    },
    {
     "data": {
      "text/plain": [
       "{'Bunt sind schon die Wälder': [(1, N(mu=6.091, sigma=4.232)),\n",
       "  (2, N(mu=6.091, sigma=4.232))],\n",
       " 'Burschen, Burschen': [(1, N(mu=0.587, sigma=4.065)),\n",
       "  (3, N(mu=0.590, sigma=4.066))],\n",
       " 'Bin auf meinem Weg': [(2, N(mu=-2.081, sigma=5.060))],\n",
       " 'Bruder, nun wird es Abend': [(3, N(mu=-4.597, sigma=4.588))]}"
      ]
     },
     "execution_count": 147,
     "metadata": {},
     "output_type": "execute_result"
    }
   ],
   "source": [
    "h.convergence()\n",
    "h.learning_curves()"
   ]
  },
  {
   "cell_type": "code",
   "execution_count": 148,
   "id": "a6e1aa99-8a75-4970-8636-087a4d40a35c",
   "metadata": {},
   "outputs": [
    {
     "data": {
      "text/plain": [
       "{'Bunt sind schon die Wälder': <trueskillthroughtime.Agent at 0x24a88713710>,\n",
       " 'Bin auf meinem Weg': <trueskillthroughtime.Agent at 0x24a887138f0>,\n",
       " 'Bruder, nun wird es Abend': <trueskillthroughtime.Agent at 0x24a88713440>,\n",
       " 'Burschen, Burschen': <trueskillthroughtime.Agent at 0x24a88712720>}"
      ]
     },
     "execution_count": 148,
     "metadata": {},
     "output_type": "execute_result"
    }
   ],
   "source": [
    "h.agents"
   ]
  },
  {
   "cell_type": "code",
   "execution_count": 181,
   "id": "e98e10e7-d6e3-4ada-834c-09b14af1138e",
   "metadata": {},
   "outputs": [
    {
     "name": "stdout",
     "output_type": "stream",
     "text": [
      "Bunt sind schon die Wälder\n",
      "[6.090677634931782, 6.091255577431683]\n",
      "N(mu=6.091, sigma=4.232)\n",
      "Wertung           6.091256\n",
      "Unsicherheit      4.232465\n",
      "Quelle          Liederbock\n",
      "Seite                  NaN\n",
      "Name: Bunt sind schon die Wälder, dtype: object\n",
      "Bin auf meinem Weg\n",
      "[-2.080599170481537]\n",
      "N(mu=-2.081, sigma=5.060)\n",
      "Wertung          -2.080599\n",
      "Unsicherheit      5.059671\n",
      "Quelle          Liederbock\n",
      "Seite                  NaN\n",
      "Name: Bin auf meinem Weg, dtype: object\n",
      "Bruder, nun wird es Abend\n",
      "[-4.5973354850686015]\n",
      "N(mu=-4.597, sigma=4.588)\n",
      "Wertung          -4.597335\n",
      "Unsicherheit      4.587775\n",
      "Quelle          Liederbock\n",
      "Seite                  NaN\n",
      "Name: Bruder, nun wird es Abend, dtype: object\n",
      "Burschen, Burschen\n",
      "[0.5872570210127943, 0.589811097795937]\n",
      "N(mu=0.590, sigma=4.066)\n",
      "Wertung           0.589811\n",
      "Unsicherheit      4.066283\n",
      "Quelle          Liederbock\n",
      "Seite                  NaN\n",
      "Name: Burschen, Burschen, dtype: object\n"
     ]
    }
   ],
   "source": [
    "for agent in h.agents:\n",
    "    print(agent)\n",
    "    print([tp[1].mu  for tp in h.learning_curves()[agent]])\n",
    "    temp = h.learning_curves()[agent][-1][1]\n",
    "    lieder.loc[agent, [\"Wertung\", \"Unsicherheit\"]] = (temp.mu, temp.sigma)\n",
    "    print(lieder.loc[agent])"
   ]
  },
  {
   "cell_type": "code",
   "execution_count": 97,
   "id": "6cddb3d3-f027-45e6-9071-bafa5706c2dd",
   "metadata": {},
   "outputs": [
    {
     "data": {
      "text/plain": [
       "dict_keys(['Bunt sind schon die Wälder', 'Bin auf meinem Weg', 'Bruder, nun wird es Abend', 'Burschen, Burschen'])"
      ]
     },
     "execution_count": 97,
     "metadata": {},
     "output_type": "execute_result"
    }
   ],
   "source": [
    "h.agents.keys()"
   ]
  },
  {
   "cell_type": "code",
   "execution_count": 104,
   "id": "261fef8f-fb95-4d53-bde2-c61f146425d4",
   "metadata": {},
   "outputs": [],
   "source": [
    "import math; from numpy.random import normal, seed; seed(99); N = 1000\n",
    "\n",
    "def skill(experience, middle, maximum, slope):\n",
    "    return maximum/(1+math.exp(slope*(-experience+middle)))\n",
    "\n",
    "target = [skill(i, 500, 2, 0.0075) for i in range(N)]\n",
    "opponents = normal(target,scale=0.5)"
   ]
  },
  {
   "cell_type": "code",
   "execution_count": 115,
   "id": "2b636d4e-dab0-44f4-96e1-1b712aa6b9ed",
   "metadata": {},
   "outputs": [
    {
     "name": "stdout",
     "output_type": "stream",
     "text": [
      "Iteration =  0 , step =  (4.383163038054278, 3.6215983638125206)\n",
      "Iteration =  1 , step =  (3.976251813753162e-06, 1.80756838125129e-06)\n",
      "Iteration =  2 , step =  (1.368904989362818e-12, 8.238132398474818e-13)\n",
      "End\n"
     ]
    }
   ],
   "source": [
    "composition = [[[\"a\"], [str(i)]] for i in range(N)]\n",
    "results = [[1,0] if normal(target[i]) > normal(opponents[i]) else [0,1] for i in range(N)]\n",
    "times = [i for i in range(N)]\n",
    "priors = dict([(str(i), ttt.Player(ttt.Gaussian(opponents[i], 0.2))) for i in range(N)])\n",
    "h = ttt.History(composition, results, times, priors, gamma=0.015)\n",
    "h.convergence()\n",
    "mu = [tp[1].mu for tp in h.learning_curves()[\"a\"]]"
   ]
  },
  {
   "cell_type": "code",
   "execution_count": 2,
   "id": "d5866756-18b2-44ae-949b-3a3341d0d212",
   "metadata": {},
   "outputs": [
    {
     "data": {
      "text/plain": [
       "521"
      ]
     },
     "execution_count": 2,
     "metadata": {},
     "output_type": "execute_result"
    }
   ],
   "source": [
    "import datetime\n",
    "\n",
    "time_delta = datetime.date.today()-datetime.date(2022,10,1)\n",
    "time_delta.days"
   ]
  },
  {
   "cell_type": "code",
   "execution_count": 194,
   "id": "cef5fa45-9feb-45a9-85ee-94119880c33d",
   "metadata": {},
   "outputs": [
    {
     "data": {
      "text/plain": [
       "'2022-10-01'"
      ]
     },
     "execution_count": 194,
     "metadata": {},
     "output_type": "execute_result"
    }
   ],
   "source": [
    "datetime.datetime.strptime(\"2022-10-01\", \"%Y-%m-%d\").date().strftime(\"%Y-%m-%d\")"
   ]
  },
  {
   "cell_type": "code",
   "execution_count": 6,
   "id": "2900a147-2b90-4352-85e8-f80d40f42405",
   "metadata": {},
   "outputs": [],
   "source": [
    "vergleiche = pd.read_csv(\"vergleiche.csv\")"
   ]
  },
  {
   "cell_type": "code",
   "execution_count": 7,
   "id": "842c6278-2d17-426f-a5bc-88d0fb984afe",
   "metadata": {},
   "outputs": [
    {
     "data": {
      "text/html": [
       "<div>\n",
       "<style scoped>\n",
       "    .dataframe tbody tr th:only-of-type {\n",
       "        vertical-align: middle;\n",
       "    }\n",
       "\n",
       "    .dataframe tbody tr th {\n",
       "        vertical-align: top;\n",
       "    }\n",
       "\n",
       "    .dataframe thead th {\n",
       "        text-align: right;\n",
       "    }\n",
       "</style>\n",
       "<table border=\"1\" class=\"dataframe\">\n",
       "  <thead>\n",
       "    <tr style=\"text-align: right;\">\n",
       "      <th></th>\n",
       "      <th>Datum</th>\n",
       "      <th>Gewinner</th>\n",
       "      <th>Verlierer</th>\n",
       "    </tr>\n",
       "  </thead>\n",
       "  <tbody>\n",
       "    <tr>\n",
       "      <th>0</th>\n",
       "      <td>2024-03-03</td>\n",
       "      <td>Bunt sind schon die Wälder</td>\n",
       "      <td>Burschen, Burschen</td>\n",
       "    </tr>\n",
       "    <tr>\n",
       "      <th>1</th>\n",
       "      <td>2024-03-03</td>\n",
       "      <td>Bunt sind schon die Wälder</td>\n",
       "      <td>Bin auf meinem Weg</td>\n",
       "    </tr>\n",
       "    <tr>\n",
       "      <th>2</th>\n",
       "      <td>2024-03-03</td>\n",
       "      <td>Burschen, Burschen</td>\n",
       "      <td>Bruder, nun wird es Abend</td>\n",
       "    </tr>\n",
       "    <tr>\n",
       "      <th>3</th>\n",
       "      <td>2024-03-04</td>\n",
       "      <td>An der Allee</td>\n",
       "      <td>Burschen, Burschen</td>\n",
       "    </tr>\n",
       "    <tr>\n",
       "      <th>4</th>\n",
       "      <td>2024-03-04</td>\n",
       "      <td>An den sechs vergangnen Tagen</td>\n",
       "      <td>Burschen, Burschen</td>\n",
       "    </tr>\n",
       "    <tr>\n",
       "      <th>5</th>\n",
       "      <td>2024-03-04</td>\n",
       "      <td>An der Allee</td>\n",
       "      <td>An den sechs vergangnen Tagen</td>\n",
       "    </tr>\n",
       "  </tbody>\n",
       "</table>\n",
       "</div>"
      ],
      "text/plain": [
       "        Datum                       Gewinner                      Verlierer\n",
       "0  2024-03-03     Bunt sind schon die Wälder             Burschen, Burschen\n",
       "1  2024-03-03     Bunt sind schon die Wälder             Bin auf meinem Weg\n",
       "2  2024-03-03             Burschen, Burschen      Bruder, nun wird es Abend\n",
       "3  2024-03-04                   An der Allee             Burschen, Burschen\n",
       "4  2024-03-04  An den sechs vergangnen Tagen             Burschen, Burschen\n",
       "5  2024-03-04                   An der Allee  An den sechs vergangnen Tagen"
      ]
     },
     "execution_count": 7,
     "metadata": {},
     "output_type": "execute_result"
    }
   ],
   "source": [
    "vergleiche"
   ]
  },
  {
   "cell_type": "code",
   "execution_count": 37,
   "id": "de29ddd9-4c2a-4a15-8d07-c1c33b1e9b31",
   "metadata": {},
   "outputs": [
    {
     "data": {
      "text/plain": [
       "[[['Bunt sind schon die Wälder'], ['Burschen, Burschen']],\n",
       " [['Bunt sind schon die Wälder'], ['Bin auf meinem Weg']],\n",
       " [['Burschen, Burschen'], ['Bruder, nun wird es Abend']],\n",
       " [['An der Allee'], ['Burschen, Burschen']],\n",
       " [['An den sechs vergangnen Tagen'], ['Burschen, Burschen']],\n",
       " [['An der Allee'], ['An den sechs vergangnen Tagen']]]"
      ]
     },
     "execution_count": 37,
     "metadata": {},
     "output_type": "execute_result"
    }
   ],
   "source": [
    "comp =  [[[gewinner], [verlierer]] for gewinner, verlierer in zip(vergleiche[\"Gewinner\"], vergleiche[\"Verlierer\"])]\n",
    "comp"
   ]
  },
  {
   "cell_type": "code",
   "execution_count": 38,
   "id": "774795e4-da5c-4e81-88d8-5e07a93073ab",
   "metadata": {},
   "outputs": [
    {
     "data": {
      "text/plain": [
       "[2, 2, 2, 1, 1, 1]"
      ]
     },
     "execution_count": 38,
     "metadata": {},
     "output_type": "execute_result"
    }
   ],
   "source": [
    "times = vergleiche[\"Datum\"].map(lambda string: (datetime.date.today()-datetime.datetime.strptime(string, \"%Y-%m-%d\").date()).days).to_list()\n",
    "times"
   ]
  },
  {
   "cell_type": "code",
   "execution_count": 40,
   "id": "023028e0-5cb6-4b33-bec6-f5d916d51bb1",
   "metadata": {},
   "outputs": [
    {
     "name": "stdout",
     "output_type": "stream",
     "text": [
      "Iteration =  0 , step =  (1.9660406424290073, 1.108347375420756)\n",
      "Iteration =  1 , step =  (0.4397632051686897, 0.04909397092380363)\n",
      "Iteration =  2 , step =  (0.01078748956986919, 0.01052202836045435)\n",
      "Iteration =  3 , step =  (0.005169412809664209, 0.002245562627031461)\n",
      "Iteration =  4 , step =  (0.0011975637527479321, 0.00030334652218044766)\n",
      "Iteration =  5 , step =  (0.000220315896757306, 9.17777623259397e-05)\n",
      "Iteration =  6 , step =  (4.879335067276003e-05, 1.2188177581862192e-05)\n",
      "Iteration =  7 , step =  (9.155142029371177e-06, 3.873379767149743e-06)\n",
      "Iteration =  8 , step =  (2.0306578059070546e-06, 5.260595496991982e-07)\n",
      "Iteration =  9 , step =  (3.840648465924801e-07, 1.6288504589567765e-07)\n",
      "End\n"
     ]
    },
    {
     "data": {
      "text/plain": [
       "{'An den sechs vergangnen Tagen': [(1, N(mu=1.207, sigma=3.580))],\n",
       " 'Burschen, Burschen': [(1, N(mu=-2.674, sigma=3.273)),\n",
       "  (2, N(mu=-2.673, sigma=3.274))],\n",
       " 'An der Allee': [(1, N(mu=5.953, sigma=4.026))],\n",
       " 'Bruder, nun wird es Abend': [(2, N(mu=-6.524, sigma=4.091))],\n",
       " 'Bunt sind schon die Wälder': [(2, N(mu=4.677, sigma=4.323))],\n",
       " 'Bin auf meinem Weg': [(2, N(mu=-2.639, sigma=4.950))]}"
      ]
     },
     "execution_count": 40,
     "metadata": {},
     "output_type": "execute_result"
    }
   ],
   "source": [
    "h = ttt.History(comp, times=times, gamma=0.1)\n",
    "h.convergence()\n",
    "h.learning_curves()"
   ]
  },
  {
   "cell_type": "code",
   "execution_count": 47,
   "id": "b731a19a-3276-44a5-822c-bd9735731d7e",
   "metadata": {},
   "outputs": [
    {
     "name": "stdout",
     "output_type": "stream",
     "text": [
      "Burschen, Burschen\n",
      "[-2.674108693758902, -2.672862584326061]\n",
      "Wertung          -2.672863\n",
      "Unsicherheit      3.273609\n",
      "Quelle          Liederbock\n",
      "Seite                 46.0\n",
      "Name: Burschen, Burschen, dtype: object\n",
      "Bunt sind schon die Wälder\n",
      "[4.676963077554951]\n",
      "Wertung           4.676963\n",
      "Unsicherheit      4.322851\n",
      "Quelle          Liederbock\n",
      "Seite                 44.0\n",
      "Name: Bunt sind schon die Wälder, dtype: object\n",
      "Bin auf meinem Weg\n",
      "[-2.638862255194752]\n",
      "Wertung          -2.638862\n",
      "Unsicherheit      4.949826\n",
      "Quelle          Liederbock\n",
      "Seite                 40.0\n",
      "Name: Bin auf meinem Weg, dtype: object\n",
      "An der Allee\n",
      "[5.95325770683055]\n",
      "Wertung           5.953258\n",
      "Unsicherheit      4.025716\n",
      "Quelle          Liederbock\n",
      "Seite                 28.0\n",
      "Name: An der Allee, dtype: object\n",
      "Bruder, nun wird es Abend\n",
      "[-6.524075994600914]\n",
      "Wertung          -6.524076\n",
      "Unsicherheit      4.091092\n",
      "Quelle          Liederbock\n",
      "Seite                 42.0\n",
      "Name: Bruder, nun wird es Abend, dtype: object\n",
      "An den sechs vergangnen Tagen\n",
      "[1.206826462084194]\n",
      "Wertung           1.206826\n",
      "Unsicherheit      3.580022\n",
      "Quelle          Liederbock\n",
      "Seite                 26.0\n",
      "Name: An den sechs vergangnen Tagen, dtype: object\n"
     ]
    }
   ],
   "source": [
    "for agent in h.agents:\n",
    "    print(agent)\n",
    "    print([tp[1].mu  for tp in h.learning_curves()[agent]])\n",
    "    temp = h.learning_curves()[agent][-1][1]\n",
    "    lieder.loc[agent, [\"Wertung\", \"Unsicherheit\"]] = (temp.mu, temp.sigma)\n",
    "    print(lieder.loc[agent])"
   ]
  },
  {
   "cell_type": "code",
   "execution_count": 198,
   "id": "cd615766-deb9-43fb-aeb8-3e6f379fdfd9",
   "metadata": {},
   "outputs": [],
   "source": [
    "vergleiche.loc[len(vergleiche)] = [datetime.date.today().strftime(\"%Y-%m-%d\"), \"Burschen, Burschen\", \"Triodimali\"]"
   ]
  },
  {
   "cell_type": "code",
   "execution_count": 199,
   "id": "71518e93-cdd5-48e4-9073-714dbb3a2ded",
   "metadata": {},
   "outputs": [
    {
     "data": {
      "text/html": [
       "<div>\n",
       "<style scoped>\n",
       "    .dataframe tbody tr th:only-of-type {\n",
       "        vertical-align: middle;\n",
       "    }\n",
       "\n",
       "    .dataframe tbody tr th {\n",
       "        vertical-align: top;\n",
       "    }\n",
       "\n",
       "    .dataframe thead th {\n",
       "        text-align: right;\n",
       "    }\n",
       "</style>\n",
       "<table border=\"1\" class=\"dataframe\">\n",
       "  <thead>\n",
       "    <tr style=\"text-align: right;\">\n",
       "      <th></th>\n",
       "      <th>Datum</th>\n",
       "      <th>Gewinner</th>\n",
       "      <th>Verlierer</th>\n",
       "    </tr>\n",
       "  </thead>\n",
       "  <tbody>\n",
       "    <tr>\n",
       "      <th>0</th>\n",
       "      <td>2024-03-03</td>\n",
       "      <td>Bunt sind schon die Wälder</td>\n",
       "      <td>Burschen, Burschen</td>\n",
       "    </tr>\n",
       "    <tr>\n",
       "      <th>1</th>\n",
       "      <td>2024-03-03</td>\n",
       "      <td>Bunt sind schon die Wälder</td>\n",
       "      <td>Bin auf meinem Weg</td>\n",
       "    </tr>\n",
       "    <tr>\n",
       "      <th>2</th>\n",
       "      <td>2024-03-03</td>\n",
       "      <td>Burschen, Burschen</td>\n",
       "      <td>Bruder, nun wird es Abend</td>\n",
       "    </tr>\n",
       "    <tr>\n",
       "      <th>3</th>\n",
       "      <td>2024-03-04</td>\n",
       "      <td>Burschen, Burschen</td>\n",
       "      <td>Triodimali</td>\n",
       "    </tr>\n",
       "  </tbody>\n",
       "</table>\n",
       "</div>"
      ],
      "text/plain": [
       "        Datum                    Gewinner                  Verlierer\n",
       "0  2024-03-03  Bunt sind schon die Wälder         Burschen, Burschen\n",
       "1  2024-03-03  Bunt sind schon die Wälder         Bin auf meinem Weg\n",
       "2  2024-03-03          Burschen, Burschen  Bruder, nun wird es Abend\n",
       "3  2024-03-04          Burschen, Burschen                 Triodimali"
      ]
     },
     "execution_count": 199,
     "metadata": {},
     "output_type": "execute_result"
    }
   ],
   "source": [
    "vergleiche"
   ]
  },
  {
   "cell_type": "code",
   "execution_count": 203,
   "id": "5cef6619-264b-4b5b-bca4-cd8cf5a4fbfc",
   "metadata": {},
   "outputs": [],
   "source": [
    "vergleiche.to_csv(\"vergleiche2.csv\", index=False)"
   ]
  },
  {
   "cell_type": "code",
   "execution_count": 79,
   "id": "2636618b-fb5c-4845-9d16-bc25a48b7815",
   "metadata": {},
   "outputs": [],
   "source": [
    "competition_list = lieder.sort_values(by=[\"Unsicherheit\"], ascending=False)"
   ]
  },
  {
   "cell_type": "code",
   "execution_count": 92,
   "id": "49275b29-8707-42ca-80a1-2372f42326cf",
   "metadata": {},
   "outputs": [
    {
     "data": {
      "text/plain": [
       "['Abends treten Elche@Liederbock',\n",
       " 'Von der Festung dröhnt@Liederbock',\n",
       " 'Turm@Liederbock',\n",
       " \"'Twas down the glen@Liederbock\",\n",
       " 'Über meiner Heimat Frühling@Liederbock',\n",
       " 'Und als begann der dritte Krieg@Liederbock',\n",
       " 'Und als wir dann am Abend@Liederbock',\n",
       " 'Und am Abend ziehen Gaukler@Liederbock',\n",
       " 'Und wir kauern wieder um die heiße Glut@Liederbock',\n",
       " 'Ungezählte Male@Liederbock',\n",
       " 'Uns jungen Mannen@Liederbock',\n",
       " 'Unter den Toren@Liederbock',\n",
       " 'viel schnee liegt auf den straßen@Liederbock',\n",
       " 'Viva la feria@Liederbock',\n",
       " \"Von Sonn' und Kessel schwarzgebrannt@Liederbock\",\n",
       " 'Tsching Tsching bum bum@Liederbock',\n",
       " 'Wanderer, lobe den Herren@Liederbock',\n",
       " 'War einst ein Karmeliter@Liederbock',\n",
       " 'Warum zögerst du noch@Liederbock',\n",
       " 'Was bin ich nur so jäh erwacht@Liederbock',\n",
       " 'Was gehn euch meine Lumpen an@Liederbock',\n",
       " 'Was helfen mir tausend Dukaten@Liederbock',\n",
       " 'Was kann ich denn dafür@Liederbock',\n",
       " 'Was ließen jene@Liederbock',\n",
       " 'Weile an dieser Quelle@Liederbock',\n",
       " 'Welle wogte@Liederbock',\n",
       " 'Wenn alle Brünnlein fließen@Liederbock',\n",
       " 'Wenn der Abend naht@Liederbock',\n",
       " 'Tsu mir is gekumen a kusine@Liederbock',\n",
       " 'Trumradibum@Liederbock',\n",
       " 'Abend ward@Liederbock',\n",
       " 'Sie saßen oft am Märchensee@Liederbock',\n",
       " 'Oh Bootsmann@Liederbock',\n",
       " 'Oh Fischer auf den Wogen@Liederbock',\n",
       " 'Oh König von Preußen@Liederbock',\n",
       " 'Owe@Liederbock',\n",
       " 'Ringsum blühen Birn- und Apfelbäume@Liederbock',\n",
       " 'Roter Mond@Liederbock',\n",
       " 'Roter Wein im Becher@Liederbock',\n",
       " 'Scharlatane, eins will ich euch sagen@Liederbock',\n",
       " 'Schilf bleicht die langen welkenden Haare@Liederbock',\n",
       " \"Schlies Aug' und Ohr@Liederbock\",\n",
       " 'Schon wird uns oft ums Herz zu eng@Liederbock',\n",
       " 'Seht, die Leute, die springen@Liederbock',\n",
       " 'Singt Freunde@Liederbock',\n",
       " 'Tau vor Tag@Liederbock',\n",
       " 'Slaat up de Trommele@Liederbock',\n",
       " \"So troll'n wir uns@Liederbock\",\n",
       " 'Staubiger Straßen weißes Band@Liederbock',\n",
       " 'Steigt so ein kleiner Troll@Liederbock',\n",
       " 'Steuermann hoo!@Liederbock',\n",
       " 'Stiebt vom Kasbek kalt der Schnee@Liederbock',\n",
       " 'Stille Tage@Liederbock',\n",
       " 'Straßen auf und Straßen ab@Liederbock',\n",
       " 'Sturm bricht los@Liederbock',\n",
       " 'Summt der Regen@Liederbock',\n",
       " 'Taivas on sininen@Liederbock',\n",
       " 'Tanzen die Dohlen@Liederbock',\n",
       " 'Wenn die Bürger schlafen gehn@Liederbock',\n",
       " 'Wenn ich einmal der Herrgott wär@Liederbock',\n",
       " 'Wenn sie reiten zur Schwemme@Liederbock',\n",
       " 'Es schlägt ein fremder Fink@Sankt Georg',\n",
       " 'Zu Straßburg auf der Schanz@Liederbock',\n",
       " 'Ich fahr dahin@Zupfgeigenhansel',\n",
       " 'Gesegn dich Laub@Zupfgeigenhansel',\n",
       " 'Ach Gott, wie weh tut Scheiden@Zupfgeigenhansel',\n",
       " \"Es wollt' ein Mägdlein früh aufstehn (Zupf)@Zupfgeigenhansel\",\n",
       " 'a est u nas v rajone moldavanki@Doppelbock',\n",
       " 'The Yew Tree@Doppelbock',\n",
       " \"Abends geh'n die Liebespaare@Doppelbock\",\n",
       " 'Seit Tagen schon wandern wir@Doppelbock',\n",
       " 'Görg von Frundsberg führt uns an@Sankt Georg',\n",
       " 'Weit lasst die Fahnen wehen@Sankt Georg',\n",
       " 'Die Bauern wollten Freie sein@Sankt Georg',\n",
       " 'Wenn die Landsknecht trinken@Sankt Georg',\n",
       " 'Wenn wir in der Schenke hängen@Liederbock',\n",
       " 'Trum, trum, terum, tum, tum@Sankt Georg',\n",
       " 'Es klappert der Huf am Stege@Sankt Georg',\n",
       " 'Das Kalbfell klingt@Sankt Georg',\n",
       " 'Die Trommel schlägt und schmettert@hell klingen unsere Lieder (BW)',\n",
       " 'Vom Barette schwankt die Feder@hell klingen unsere Lieder (BW)',\n",
       " 'Es wird scho glei dumpa@Echte Tiroler Lieder',\n",
       " 'The Wellerman@unbekannt',\n",
       " 'Das Trinken@unbekannt',\n",
       " 'Und wenn wir marschieren@unbekannt',\n",
       " 'Das Leben ist ein Würfelspiel@Bulibu',\n",
       " 'Das Leben ist ein Würfelspiel (Fanfare)@Die Fanfare',\n",
       " 'Über die Heide wehen die Fahnen@Der Turm A',\n",
       " 'Zogen viele Straßen@Liederbock',\n",
       " 'Zogen einst fünf wilde Schwäne@Liederbock',\n",
       " 'Zogen der Ungarn stämmige Husaren@Liederbock',\n",
       " 'Ziehen die Straßen dahin@Liederbock',\n",
       " \"Wer bekümmert sich drum, wenn ich wand're@Liederbock\",\n",
       " 'Wie schön blüht uns der Maien@Liederbock',\n",
       " 'Wilde Gesellen@Liederbock',\n",
       " 'Wildgänse rauschen durch die Nacht@Liederbock',\n",
       " 'Wir drei, wir gehn jetzt auf die Walze@Liederbock',\n",
       " 'Wir kamen einst von Piemont@Liederbock',\n",
       " 'Wir sind des Geyers schwarzer Haufen@Liederbock',\n",
       " 'Wir sind durch Deutschland gefahren@Liederbock',\n",
       " 'Wir sind eine kleine verlorene Schar@Liederbock',\n",
       " 'Wir sind Kameraden@Liederbock',\n",
       " 'Wir traben in die Weite@Liederbock',\n",
       " 'Wir wählten den Sommer@Liederbock',\n",
       " 'Wir wollen zu Land ausfahren@Liederbock',\n",
       " 'Wir zahlten mit Dollars und Kopeken@Liederbock',\n",
       " 'Wir zogen in das Feld@Liederbock',\n",
       " 'Woher soll das Brot für heute kommen@Liederbock',\n",
       " 'Wohin auch das Auge blicket@Liederbock',\n",
       " 'Wollt ihr hören nun mein Lied@Liederbock',\n",
       " 'Wo seid ihr Nächte am Feuer@Liederbock',\n",
       " \"Wo's nur Felsen gibt@Liederbock\",\n",
       " 'Wo soll ich mich hinkehren@Liederbock',\n",
       " 'Wo soll ich mich hinwenden@Liederbock',\n",
       " 'Xekinai@Liederbock',\n",
       " 'Ye Jacobites@Liederbock',\n",
       " 'Zelte sah ich, Pferde, Fahnen@Liederbock',\n",
       " 'Nun lustig, lustig@Liederbock',\n",
       " 'Nun greift in die Saiten@Liederbock',\n",
       " 'Nordwärts, nordwärts@Liederbock',\n",
       " 'Dort an dem Üferchen@Liederbock',\n",
       " 'Der Tag entgleitet schattensacht@Liederbock',\n",
       " \"Der Tod reit' auf einem kohlschwarten Rappen@Liederbock\",\n",
       " 'Der Winter dahin@Liederbock',\n",
       " 'Der Winter ist gekommen@Liederbock',\n",
       " 'Die blauen Dragoner@Liederbock',\n",
       " 'Die Dämmerung fällt@Liederbock',\n",
       " 'Die Kirschen sind reif@Liederbock',\n",
       " 'Die Klampfen erklingen@Liederbock',\n",
       " 'Die Lappen hoch@Liederbock',\n",
       " 'Die Mazurka@Liederbock',\n",
       " 'Die Straße gleitet fort und fort@Liederbock',\n",
       " 'Dingeding dong dong@Liederbock',\n",
       " 'Dort drunt im schönen Ungarland@Liederbock',\n",
       " 'Es führt über den Main@Liederbock',\n",
       " 'Dort unten im Gradental@Liederbock',\n",
       " 'Drei Tropfen Blut@Liederbock',\n",
       " 'Drei Zigeuner@Liederbock',\n",
       " 'Du machst Kleinholz@Liederbock',\n",
       " 'Durchs Tor der goldenen Glocke@Liederbock',\n",
       " 'Einst fragt ich nach des Lebens Sinn@Liederbock',\n",
       " 'Ein stolzes Schiff@Liederbock',\n",
       " 'Einst warf ich mich ins volle Leben@Liederbock',\n",
       " 'Eiris sazun idisi@Liederbock',\n",
       " 'Endlich trocknet der Landstrasse Saum@Liederbock',\n",
       " 'Endlos lang zieht sich die Straße@Liederbock',\n",
       " 'Endlos sind jene Straßen@Liederbock',\n",
       " 'Der Papst@Liederbock',\n",
       " 'Der Nebel dämpft das Morgenlicht@Liederbock',\n",
       " 'Der Mond ist aufgegangen@Liederbock',\n",
       " 'Der lang genug mit viel Bedacht@Liederbock',\n",
       " 'Aber am Abend laden wir uns ein@Liederbock',\n",
       " 'Ach wie eilte so geschwinde@Liederbock',\n",
       " 'Ade zur guten Nacht@Liederbock',\n",
       " 'Alle, die mit uns auf Kaperfahrt@Liederbock',\n",
       " 'Allzeit bereit@Liederbock',\n",
       " 'Als wir jüngst verschütt jegangen waren@Liederbock',\n",
       " 'Am Ural@Liederbock',\n",
       " 'Am Wald in der Schenke@Liederbock',\n",
       " 'Am Westermanns Lönstief@Liederbock',\n",
       " 'An den Flammen zusammengerückt@Liederbock',\n",
       " 'An den sechs vergangnen Tagen@Liederbock',\n",
       " 'An der Allee@Liederbock',\n",
       " 'Andere, die das Land, so sehr nicht liebten@Liederbock',\n",
       " 'An ihrer Schulter@Liederbock',\n",
       " 'Auf vielen Straßen@Liederbock',\n",
       " 'Bay Mayn Rebn@Liederbock',\n",
       " 'Bei Regen oder Sonnenschein@Liederbock',\n",
       " 'Bin auf meinem Weg@Liederbock',\n",
       " 'Bruder, nun wird es Abend@Liederbock',\n",
       " 'Bunt sind schon die Wälder@Liederbock',\n",
       " 'Burschen, Burschen@Liederbock',\n",
       " 'Dämmert von fern@Liederbock',\n",
       " 'Dämmerung fällt@Liederbock',\n",
       " 'Der Frühling braust@Liederbock',\n",
       " 'Der Geist ist müd@Liederbock',\n",
       " 'Es, es, es und es@Liederbock',\n",
       " 'Es geht ein dunkle Wolk herein@Liederbock',\n",
       " 'Nehmt Abschied, Brüder@Liederbock',\n",
       " 'Jenseits des Tales@Liederbock',\n",
       " 'Ich kenne Europas Zonen@Liederbock',\n",
       " 'Ich komme schon durch manche Land@Liederbock',\n",
       " 'Ihr hübschen jungen Reiter@Liederbock',\n",
       " 'Im düstern Auge keine Träne@Liederbock',\n",
       " 'Im Kreis ihrer Enkel die alte Frau@Liederbock',\n",
       " 'In das Dorf auf bunten Wagen@Liederbock',\n",
       " 'In days gone by@Liederbock',\n",
       " 'In dem Kerker saßen@Liederbock',\n",
       " 'In die Sonne, die Ferne hinaus@Liederbock',\n",
       " 'In Dublins fair city@Liederbock',\n",
       " 'In Junkers Kneipe@Liederbock',\n",
       " 'Jeden Abend träumt Jerschenkow@Liederbock',\n",
       " 'Jovano@Liederbock',\n",
       " 'Es hockt am Kamin@Liederbock',\n",
       " \"Kameraden wann seh'n wir uns wieder@Liederbock\",\n",
       " 'Kein schöner Land@Liederbock',\n",
       " 'Kommt Freunde in die Runde@Liederbock',\n",
       " 'Lang war die Reise@Liederbock',\n",
       " 'Leise weht der Wind@Liederbock',\n",
       " 'Mädchen, Männer, Meister@Liederbock',\n",
       " \"Mich brennt's in meinen Reiseschuhn@Liederbock\",\n",
       " 'Michel, warum weinest du@Liederbock',\n",
       " 'Miruschka@Liederbock',\n",
       " 'Nach Süden nun sich lenken die Vögelein@Liederbock',\n",
       " 'Nachts auf dem Dorfplatz@Liederbock',\n",
       " 'Near to Banbridge town@Liederbock',\n",
       " 'Horridoh@Liederbock',\n",
       " 'Holt mir Wein@Liederbock',\n",
       " 'Hohe Tannen@Liederbock',\n",
       " 'Hier wächst kein Ahorn@Liederbock',\n",
       " 'Es ist ein Schnitter@Liederbock',\n",
       " 'Es liegen drei glänzende Kugeln@Liederbock',\n",
       " 'Es saß ein klein wild Vögelein@Liederbock',\n",
       " 'Es soll sich der Mensch nicht@Liederbock',\n",
       " 'Es tropft von Helm und Säbel@Liederbock',\n",
       " 'Es war an einem Sommertag@Liederbock',\n",
       " 'Es war ein König in Thule@Liederbock',\n",
       " \"Es wollt' ein Bauer früh aufstehn@Liederbock\",\n",
       " \"Es wollt' ein Mägdlein früh aufstehn@Liederbock\",\n",
       " 'Fährt ein Schiff@Liederbock',\n",
       " 'Fordre niemand@Liederbock',\n",
       " 'Freifrau von Droste-Fischering@Liederbock',\n",
       " 'Freunde, der Tag steht am Rande@Liederbock',\n",
       " 'Freunde, seid in dieser Runde@Liederbock',\n",
       " \"Frisch auf gut G'sell@Liederbock\",\n",
       " 'Frühling dringt in den Norden@Liederbock',\n",
       " 'Gebt ihm jeden Namen@Liederbock',\n",
       " 'Gebt Raum ihr Völker@Liederbock',\n",
       " 'Gehe nicht, oh Gregor@Liederbock',\n",
       " \"Gestern, Brüder, könnt ihr's glauben@Liederbock\",\n",
       " 'Gospodar@Liederbock',\n",
       " 'Gute Nacht Kameraden@Liederbock',\n",
       " 'Hans Spielmann@Liederbock',\n",
       " 'Hei, wie vorn der Fetzen fliegt@Liederbock',\n",
       " 'Heute hier, morgen dort@Liederbock',\n",
       " 'Es schlägt ein fremder Fink (Turm)@Der Turm A']"
      ]
     },
     "execution_count": 92,
     "metadata": {},
     "output_type": "execute_result"
    }
   ],
   "source": [
    "competition_list[[\"Liedanfang\", \"Quelle\"]].apply(lambda x: x[\"Liedanfang\"]+\"@\"+x[\"Quelle\"], axis=1).to_list()"
   ]
  },
  {
   "cell_type": "code",
   "execution_count": 83,
   "id": "9632ff4f-5e02-4500-b06f-5afdd4eadb59",
   "metadata": {},
   "outputs": [
    {
     "data": {
      "text/plain": [
       "['Abends treten Elche',\n",
       " 'Turm',\n",
       " 'Über meiner Heimat Frühling',\n",
       " 'Und als wir dann am Abend',\n",
       " 'Und wir kauern wieder um die heiße Glut',\n",
       " 'Uns jungen Mannen',\n",
       " 'viel schnee liegt auf den straßen',\n",
       " \"Von Sonn' und Kessel schwarzgebrannt\",\n",
       " 'Wanderer, lobe den Herren',\n",
       " 'Warum zögerst du noch',\n",
       " 'Was gehn euch meine Lumpen an',\n",
       " 'Was kann ich denn dafür',\n",
       " 'Weile an dieser Quelle',\n",
       " 'Wenn alle Brünnlein fließen',\n",
       " 'Tsu mir is gekumen a kusine',\n",
       " 'Abend ward',\n",
       " 'Oh Bootsmann',\n",
       " 'Oh König von Preußen',\n",
       " 'Ringsum blühen Birn- und Apfelbäume',\n",
       " 'Roter Wein im Becher',\n",
       " 'Schilf bleicht die langen welkenden Haare',\n",
       " 'Schon wird uns oft ums Herz zu eng',\n",
       " 'Singt Freunde',\n",
       " 'Slaat up de Trommele',\n",
       " 'Staubiger Straßen weißes Band',\n",
       " 'Steuermann hoo!',\n",
       " 'Stille Tage',\n",
       " 'Sturm bricht los',\n",
       " 'Taivas on sininen',\n",
       " 'Wenn die Bürger schlafen gehn',\n",
       " 'Wenn sie reiten zur Schwemme',\n",
       " 'Zu Straßburg auf der Schanz',\n",
       " 'Gesegn dich Laub',\n",
       " \"Es wollt' ein Mägdlein früh aufstehn (Zupf)\",\n",
       " 'The Yew Tree',\n",
       " 'Seit Tagen schon wandern wir',\n",
       " 'Weit lasst die Fahnen wehen',\n",
       " 'Wenn die Landsknecht trinken',\n",
       " 'Trum, trum, terum, tum, tum',\n",
       " 'Das Kalbfell klingt',\n",
       " 'Vom Barette schwankt die Feder',\n",
       " 'The Wellerman',\n",
       " 'Und wenn wir marschieren',\n",
       " 'Das Leben ist ein Würfelspiel (Fanfare)',\n",
       " 'Zogen viele Straßen',\n",
       " 'Zogen der Ungarn stämmige Husaren',\n",
       " \"Wer bekümmert sich drum, wenn ich wand're\",\n",
       " 'Wilde Gesellen',\n",
       " 'Wir drei, wir gehn jetzt auf die Walze',\n",
       " 'Wir sind des Geyers schwarzer Haufen',\n",
       " 'Wir sind eine kleine verlorene Schar',\n",
       " 'Wir traben in die Weite',\n",
       " 'Wir wollen zu Land ausfahren',\n",
       " 'Wir zogen in das Feld',\n",
       " 'Wohin auch das Auge blicket',\n",
       " 'Wo seid ihr Nächte am Feuer',\n",
       " 'Wo soll ich mich hinkehren',\n",
       " 'Xekinai',\n",
       " 'Zelte sah ich, Pferde, Fahnen',\n",
       " 'Nun greift in die Saiten',\n",
       " 'Dort an dem Üferchen',\n",
       " \"Der Tod reit' auf einem kohlschwarten Rappen\",\n",
       " 'Der Winter ist gekommen',\n",
       " 'Die Dämmerung fällt',\n",
       " 'Die Klampfen erklingen',\n",
       " 'Die Mazurka',\n",
       " 'Dingeding dong dong',\n",
       " 'Es führt über den Main',\n",
       " 'Drei Tropfen Blut',\n",
       " 'Du machst Kleinholz',\n",
       " 'Einst fragt ich nach des Lebens Sinn',\n",
       " 'Einst warf ich mich ins volle Leben',\n",
       " 'Endlich trocknet der Landstrasse Saum',\n",
       " 'Endlos sind jene Straßen',\n",
       " 'Der Nebel dämpft das Morgenlicht',\n",
       " 'Der lang genug mit viel Bedacht',\n",
       " 'Ach wie eilte so geschwinde',\n",
       " 'Alle, die mit uns auf Kaperfahrt',\n",
       " 'Als wir jüngst verschütt jegangen waren',\n",
       " 'Am Wald in der Schenke',\n",
       " 'An den Flammen zusammengerückt',\n",
       " 'An der Allee',\n",
       " 'An ihrer Schulter',\n",
       " 'Bay Mayn Rebn',\n",
       " 'Bin auf meinem Weg',\n",
       " 'Bunt sind schon die Wälder',\n",
       " 'Dämmert von fern',\n",
       " 'Der Frühling braust',\n",
       " 'Es, es, es und es',\n",
       " 'Nehmt Abschied, Brüder',\n",
       " 'Ich kenne Europas Zonen',\n",
       " 'Ihr hübschen jungen Reiter',\n",
       " 'Im Kreis ihrer Enkel die alte Frau',\n",
       " 'In days gone by',\n",
       " 'In die Sonne, die Ferne hinaus',\n",
       " 'In Junkers Kneipe',\n",
       " 'Jovano',\n",
       " \"Kameraden wann seh'n wir uns wieder\",\n",
       " 'Kommt Freunde in die Runde',\n",
       " 'Leise weht der Wind',\n",
       " \"Mich brennt's in meinen Reiseschuhn\",\n",
       " 'Miruschka',\n",
       " 'Nachts auf dem Dorfplatz',\n",
       " 'Horridoh',\n",
       " 'Hohe Tannen',\n",
       " 'Es ist ein Schnitter',\n",
       " 'Es saß ein klein wild Vögelein',\n",
       " 'Es tropft von Helm und Säbel',\n",
       " 'Es war ein König in Thule',\n",
       " \"Es wollt' ein Mägdlein früh aufstehn\",\n",
       " 'Fordre niemand',\n",
       " 'Freunde, der Tag steht am Rande',\n",
       " \"Frisch auf gut G'sell\",\n",
       " 'Gebt ihm jeden Namen',\n",
       " 'Gehe nicht, oh Gregor',\n",
       " 'Gospodar',\n",
       " 'Hans Spielmann',\n",
       " 'Heute hier, morgen dort']"
      ]
     },
     "execution_count": 83,
     "metadata": {},
     "output_type": "execute_result"
    }
   ],
   "source": [
    "[title for idx, title in enumerate(competition_list[\"Liedanfang\"].to_list()) if idx%2 == 0]"
   ]
  },
  {
   "cell_type": "code",
   "execution_count": null,
   "id": "74e92619-75d4-425b-8cf0-826bbaf7f9ad",
   "metadata": {},
   "outputs": [],
   "source": []
  }
 ],
 "metadata": {
  "kernelspec": {
   "display_name": "Python 3 (ipykernel)",
   "language": "python",
   "name": "python3"
  },
  "language_info": {
   "codemirror_mode": {
    "name": "ipython",
    "version": 3
   },
   "file_extension": ".py",
   "mimetype": "text/x-python",
   "name": "python",
   "nbconvert_exporter": "python",
   "pygments_lexer": "ipython3",
   "version": "3.12.1"
  }
 },
 "nbformat": 4,
 "nbformat_minor": 5
}
